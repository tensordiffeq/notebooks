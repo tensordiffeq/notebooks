{
  "nbformat": 4,
  "nbformat_minor": 0,
  "metadata": {
    "colab": {
      "name": "Notebook1-ViscousBurgers.ipynb",
      "provenance": [],
      "collapsed_sections": [],
      "authorship_tag": "ABX9TyNhzyK5JxgD5iPM8RVB2e1O",
      "include_colab_link": true
    },
    "kernelspec": {
      "name": "python3",
      "display_name": "Python 3"
    },
    "language_info": {
      "name": "python"
    },
    "accelerator": "GPU",
    "widgets": {
      "application/vnd.jupyter.widget-state+json": {
        "3cf287d87060456fa74f8b5abe17d283": {
          "model_module": "@jupyter-widgets/controls",
          "model_name": "HBoxModel",
          "state": {
            "_view_name": "HBoxView",
            "_dom_classes": [],
            "_model_name": "HBoxModel",
            "_view_module": "@jupyter-widgets/controls",
            "_model_module_version": "1.5.0",
            "_view_count": null,
            "_view_module_version": "1.5.0",
            "box_style": "",
            "layout": "IPY_MODEL_38b0a7fb312e45bc9c873db7d9c5289b",
            "_model_module": "@jupyter-widgets/controls",
            "children": [
              "IPY_MODEL_5c53020c3caa4aeea7c4ef19400f0abb",
              "IPY_MODEL_5960d3b93bde4c50a7e2f101d0027be1"
            ]
          }
        },
        "38b0a7fb312e45bc9c873db7d9c5289b": {
          "model_module": "@jupyter-widgets/base",
          "model_name": "LayoutModel",
          "state": {
            "_view_name": "LayoutView",
            "grid_template_rows": null,
            "right": null,
            "justify_content": null,
            "_view_module": "@jupyter-widgets/base",
            "overflow": null,
            "_model_module_version": "1.2.0",
            "_view_count": null,
            "flex_flow": null,
            "width": null,
            "min_width": null,
            "border": null,
            "align_items": null,
            "bottom": null,
            "_model_module": "@jupyter-widgets/base",
            "top": null,
            "grid_column": null,
            "overflow_y": null,
            "overflow_x": null,
            "grid_auto_flow": null,
            "grid_area": null,
            "grid_template_columns": null,
            "flex": null,
            "_model_name": "LayoutModel",
            "justify_items": null,
            "grid_row": null,
            "max_height": null,
            "align_content": null,
            "visibility": null,
            "align_self": null,
            "height": null,
            "min_height": null,
            "padding": null,
            "grid_auto_rows": null,
            "grid_gap": null,
            "max_width": null,
            "order": null,
            "_view_module_version": "1.2.0",
            "grid_template_areas": null,
            "object_position": null,
            "object_fit": null,
            "grid_auto_columns": null,
            "margin": null,
            "display": null,
            "left": null
          }
        },
        "5c53020c3caa4aeea7c4ef19400f0abb": {
          "model_module": "@jupyter-widgets/controls",
          "model_name": "FloatProgressModel",
          "state": {
            "_view_name": "ProgressView",
            "style": "IPY_MODEL_2f050e3610f142b5948e994f4719eda9",
            "_dom_classes": [],
            "description": "Adam epoch 2000: 100%",
            "_model_name": "FloatProgressModel",
            "bar_style": "success",
            "max": 2000,
            "_view_module": "@jupyter-widgets/controls",
            "_model_module_version": "1.5.0",
            "value": 2000,
            "_view_count": null,
            "_view_module_version": "1.5.0",
            "orientation": "horizontal",
            "min": 0,
            "description_tooltip": null,
            "_model_module": "@jupyter-widgets/controls",
            "layout": "IPY_MODEL_17547468e4a14aab9098ffbe7ca1ffcb"
          }
        },
        "5960d3b93bde4c50a7e2f101d0027be1": {
          "model_module": "@jupyter-widgets/controls",
          "model_name": "HTMLModel",
          "state": {
            "_view_name": "HTMLView",
            "style": "IPY_MODEL_b9967c16a5e4444fafc70d9f0d1193d6",
            "_dom_classes": [],
            "description": "",
            "_model_name": "HTMLModel",
            "placeholder": "​",
            "_view_module": "@jupyter-widgets/controls",
            "_model_module_version": "1.5.0",
            "value": " 2000/2000 [00:13&lt;00:00, 145.25it/s, loss=0.000933]",
            "_view_count": null,
            "_view_module_version": "1.5.0",
            "description_tooltip": null,
            "_model_module": "@jupyter-widgets/controls",
            "layout": "IPY_MODEL_1f266519be0e437d990293737a7f3f39"
          }
        },
        "2f050e3610f142b5948e994f4719eda9": {
          "model_module": "@jupyter-widgets/controls",
          "model_name": "ProgressStyleModel",
          "state": {
            "_view_name": "StyleView",
            "_model_name": "ProgressStyleModel",
            "description_width": "initial",
            "_view_module": "@jupyter-widgets/base",
            "_model_module_version": "1.5.0",
            "_view_count": null,
            "_view_module_version": "1.2.0",
            "bar_color": null,
            "_model_module": "@jupyter-widgets/controls"
          }
        },
        "17547468e4a14aab9098ffbe7ca1ffcb": {
          "model_module": "@jupyter-widgets/base",
          "model_name": "LayoutModel",
          "state": {
            "_view_name": "LayoutView",
            "grid_template_rows": null,
            "right": null,
            "justify_content": null,
            "_view_module": "@jupyter-widgets/base",
            "overflow": null,
            "_model_module_version": "1.2.0",
            "_view_count": null,
            "flex_flow": null,
            "width": null,
            "min_width": null,
            "border": null,
            "align_items": null,
            "bottom": null,
            "_model_module": "@jupyter-widgets/base",
            "top": null,
            "grid_column": null,
            "overflow_y": null,
            "overflow_x": null,
            "grid_auto_flow": null,
            "grid_area": null,
            "grid_template_columns": null,
            "flex": null,
            "_model_name": "LayoutModel",
            "justify_items": null,
            "grid_row": null,
            "max_height": null,
            "align_content": null,
            "visibility": null,
            "align_self": null,
            "height": null,
            "min_height": null,
            "padding": null,
            "grid_auto_rows": null,
            "grid_gap": null,
            "max_width": null,
            "order": null,
            "_view_module_version": "1.2.0",
            "grid_template_areas": null,
            "object_position": null,
            "object_fit": null,
            "grid_auto_columns": null,
            "margin": null,
            "display": null,
            "left": null
          }
        },
        "b9967c16a5e4444fafc70d9f0d1193d6": {
          "model_module": "@jupyter-widgets/controls",
          "model_name": "DescriptionStyleModel",
          "state": {
            "_view_name": "StyleView",
            "_model_name": "DescriptionStyleModel",
            "description_width": "",
            "_view_module": "@jupyter-widgets/base",
            "_model_module_version": "1.5.0",
            "_view_count": null,
            "_view_module_version": "1.2.0",
            "_model_module": "@jupyter-widgets/controls"
          }
        },
        "1f266519be0e437d990293737a7f3f39": {
          "model_module": "@jupyter-widgets/base",
          "model_name": "LayoutModel",
          "state": {
            "_view_name": "LayoutView",
            "grid_template_rows": null,
            "right": null,
            "justify_content": null,
            "_view_module": "@jupyter-widgets/base",
            "overflow": null,
            "_model_module_version": "1.2.0",
            "_view_count": null,
            "flex_flow": null,
            "width": null,
            "min_width": null,
            "border": null,
            "align_items": null,
            "bottom": null,
            "_model_module": "@jupyter-widgets/base",
            "top": null,
            "grid_column": null,
            "overflow_y": null,
            "overflow_x": null,
            "grid_auto_flow": null,
            "grid_area": null,
            "grid_template_columns": null,
            "flex": null,
            "_model_name": "LayoutModel",
            "justify_items": null,
            "grid_row": null,
            "max_height": null,
            "align_content": null,
            "visibility": null,
            "align_self": null,
            "height": null,
            "min_height": null,
            "padding": null,
            "grid_auto_rows": null,
            "grid_gap": null,
            "max_width": null,
            "order": null,
            "_view_module_version": "1.2.0",
            "grid_template_areas": null,
            "object_position": null,
            "object_fit": null,
            "grid_auto_columns": null,
            "margin": null,
            "display": null,
            "left": null
          }
        },
        "6f131abc78bb46df99b2a323246d7d1e": {
          "model_module": "@jupyter-widgets/controls",
          "model_name": "HBoxModel",
          "state": {
            "_view_name": "HBoxView",
            "_dom_classes": [],
            "_model_name": "HBoxModel",
            "_view_module": "@jupyter-widgets/controls",
            "_model_module_version": "1.5.0",
            "_view_count": null,
            "_view_module_version": "1.5.0",
            "box_style": "",
            "layout": "IPY_MODEL_c5a36d653a9e4f819eb1b7a5c375b065",
            "_model_module": "@jupyter-widgets/controls",
            "children": [
              "IPY_MODEL_90424a4e89e543c59adf063e1ca17c97",
              "IPY_MODEL_7424e183bd77411da72bf1e295ce22e7"
            ]
          }
        },
        "c5a36d653a9e4f819eb1b7a5c375b065": {
          "model_module": "@jupyter-widgets/base",
          "model_name": "LayoutModel",
          "state": {
            "_view_name": "LayoutView",
            "grid_template_rows": null,
            "right": null,
            "justify_content": null,
            "_view_module": "@jupyter-widgets/base",
            "overflow": null,
            "_model_module_version": "1.2.0",
            "_view_count": null,
            "flex_flow": null,
            "width": null,
            "min_width": null,
            "border": null,
            "align_items": null,
            "bottom": null,
            "_model_module": "@jupyter-widgets/base",
            "top": null,
            "grid_column": null,
            "overflow_y": null,
            "overflow_x": null,
            "grid_auto_flow": null,
            "grid_area": null,
            "grid_template_columns": null,
            "flex": null,
            "_model_name": "LayoutModel",
            "justify_items": null,
            "grid_row": null,
            "max_height": null,
            "align_content": null,
            "visibility": null,
            "align_self": null,
            "height": null,
            "min_height": null,
            "padding": null,
            "grid_auto_rows": null,
            "grid_gap": null,
            "max_width": null,
            "order": null,
            "_view_module_version": "1.2.0",
            "grid_template_areas": null,
            "object_position": null,
            "object_fit": null,
            "grid_auto_columns": null,
            "margin": null,
            "display": null,
            "left": null
          }
        },
        "90424a4e89e543c59adf063e1ca17c97": {
          "model_module": "@jupyter-widgets/controls",
          "model_name": "FloatProgressModel",
          "state": {
            "_view_name": "ProgressView",
            "style": "IPY_MODEL_7c0e3c89e4fd44ce99f949ef7b8684db",
            "_dom_classes": [],
            "description": "L-BFGS epoch 2000: 100%",
            "_model_name": "FloatProgressModel",
            "bar_style": "danger",
            "max": 2000,
            "_view_module": "@jupyter-widgets/controls",
            "_model_module_version": "1.5.0",
            "value": 1999,
            "_view_count": null,
            "_view_module_version": "1.5.0",
            "orientation": "horizontal",
            "min": 0,
            "description_tooltip": null,
            "_model_module": "@jupyter-widgets/controls",
            "layout": "IPY_MODEL_27635965c6574b40bf4ef2027b3ae12d"
          }
        },
        "7424e183bd77411da72bf1e295ce22e7": {
          "model_module": "@jupyter-widgets/controls",
          "model_name": "HTMLModel",
          "state": {
            "_view_name": "HTMLView",
            "style": "IPY_MODEL_2896c9d09d064cb0988bdd2a07627df4",
            "_dom_classes": [],
            "description": "",
            "_model_name": "HTMLModel",
            "placeholder": "​",
            "_view_module": "@jupyter-widgets/controls",
            "_model_module_version": "1.5.0",
            "value": " 1999/2000 [01:49&lt;00:00, 18.31it/s, loss=6.19e-5]",
            "_view_count": null,
            "_view_module_version": "1.5.0",
            "description_tooltip": null,
            "_model_module": "@jupyter-widgets/controls",
            "layout": "IPY_MODEL_2b6dbc3874a64de49e7d9975b2057de6"
          }
        },
        "7c0e3c89e4fd44ce99f949ef7b8684db": {
          "model_module": "@jupyter-widgets/controls",
          "model_name": "ProgressStyleModel",
          "state": {
            "_view_name": "StyleView",
            "_model_name": "ProgressStyleModel",
            "description_width": "initial",
            "_view_module": "@jupyter-widgets/base",
            "_model_module_version": "1.5.0",
            "_view_count": null,
            "_view_module_version": "1.2.0",
            "bar_color": null,
            "_model_module": "@jupyter-widgets/controls"
          }
        },
        "27635965c6574b40bf4ef2027b3ae12d": {
          "model_module": "@jupyter-widgets/base",
          "model_name": "LayoutModel",
          "state": {
            "_view_name": "LayoutView",
            "grid_template_rows": null,
            "right": null,
            "justify_content": null,
            "_view_module": "@jupyter-widgets/base",
            "overflow": null,
            "_model_module_version": "1.2.0",
            "_view_count": null,
            "flex_flow": null,
            "width": null,
            "min_width": null,
            "border": null,
            "align_items": null,
            "bottom": null,
            "_model_module": "@jupyter-widgets/base",
            "top": null,
            "grid_column": null,
            "overflow_y": null,
            "overflow_x": null,
            "grid_auto_flow": null,
            "grid_area": null,
            "grid_template_columns": null,
            "flex": null,
            "_model_name": "LayoutModel",
            "justify_items": null,
            "grid_row": null,
            "max_height": null,
            "align_content": null,
            "visibility": null,
            "align_self": null,
            "height": null,
            "min_height": null,
            "padding": null,
            "grid_auto_rows": null,
            "grid_gap": null,
            "max_width": null,
            "order": null,
            "_view_module_version": "1.2.0",
            "grid_template_areas": null,
            "object_position": null,
            "object_fit": null,
            "grid_auto_columns": null,
            "margin": null,
            "display": null,
            "left": null
          }
        },
        "2896c9d09d064cb0988bdd2a07627df4": {
          "model_module": "@jupyter-widgets/controls",
          "model_name": "DescriptionStyleModel",
          "state": {
            "_view_name": "StyleView",
            "_model_name": "DescriptionStyleModel",
            "description_width": "",
            "_view_module": "@jupyter-widgets/base",
            "_model_module_version": "1.5.0",
            "_view_count": null,
            "_view_module_version": "1.2.0",
            "_model_module": "@jupyter-widgets/controls"
          }
        },
        "2b6dbc3874a64de49e7d9975b2057de6": {
          "model_module": "@jupyter-widgets/base",
          "model_name": "LayoutModel",
          "state": {
            "_view_name": "LayoutView",
            "grid_template_rows": null,
            "right": null,
            "justify_content": null,
            "_view_module": "@jupyter-widgets/base",
            "overflow": null,
            "_model_module_version": "1.2.0",
            "_view_count": null,
            "flex_flow": null,
            "width": null,
            "min_width": null,
            "border": null,
            "align_items": null,
            "bottom": null,
            "_model_module": "@jupyter-widgets/base",
            "top": null,
            "grid_column": null,
            "overflow_y": null,
            "overflow_x": null,
            "grid_auto_flow": null,
            "grid_area": null,
            "grid_template_columns": null,
            "flex": null,
            "_model_name": "LayoutModel",
            "justify_items": null,
            "grid_row": null,
            "max_height": null,
            "align_content": null,
            "visibility": null,
            "align_self": null,
            "height": null,
            "min_height": null,
            "padding": null,
            "grid_auto_rows": null,
            "grid_gap": null,
            "max_width": null,
            "order": null,
            "_view_module_version": "1.2.0",
            "grid_template_areas": null,
            "object_position": null,
            "object_fit": null,
            "grid_auto_columns": null,
            "margin": null,
            "display": null,
            "left": null
          }
        }
      }
    }
  },
  "cells": [
    {
      "cell_type": "markdown",
      "metadata": {
        "id": "view-in-github",
        "colab_type": "text"
      },
      "source": [
        "<a href=\"https://colab.research.google.com/github/levimcclenny/notebooks/blob/main/Notebook1_ViscousBurgers.ipynb\" target=\"_parent\"><img src=\"https://colab.research.google.com/assets/colab-badge.svg\" alt=\"Open In Colab\"/></a>"
      ]
    },
    {
      "cell_type": "markdown",
      "metadata": {
        "id": "HERoAAna8NTG"
      },
      "source": [
        "## *TensorDiffEq* Workshop Materials - Notebook 1\n",
        "### Viscous Burgers Equation\n",
        "\n",
        "In this notebook we will provide a brief overview of the interface of *TensorDiffEq* and how to implement its functionality to solve PDE systems. We will start with a basic implementation of a nonlinear PDE, the viscous Burger's Equation.\n",
        "\n",
        "Specifically we will solve the PDE system:\n",
        "\n",
        "$u_t + uu_x - (0.01/\\pi) u_{xx} = 0, \\ \\ x \\in [-1,1], t \\in [0,1]$ \\\\\n",
        "$u(0,x) = -sin(\\pi x)$ \\\\\n",
        "$u(t, -1) = u(t, 1) = 0 $\n",
        "\n",
        "First, we must install the package, which can be done via *pip*"
      ]
    },
    {
      "cell_type": "code",
      "metadata": {
        "colab": {
          "base_uri": "https://localhost:8080/"
        },
        "id": "-x9DP1439xbY",
        "outputId": "ed45243d-5388-4217-a7ad-ec0e1d8259ae"
      },
      "source": [
        "!pip install tensordiffeq"
      ],
      "execution_count": 1,
      "outputs": [
        {
          "output_type": "stream",
          "text": [
            "Requirement already satisfied: tensordiffeq in /usr/local/lib/python3.7/dist-packages (0.1.8)\n",
            "Requirement already satisfied: tensorflow-probability in /usr/local/lib/python3.7/dist-packages (from tensordiffeq) (0.12.1)\n",
            "Requirement already satisfied: matplotlib in /usr/local/lib/python3.7/dist-packages (from tensordiffeq) (3.2.2)\n",
            "Requirement already satisfied: numpy in /usr/local/lib/python3.7/dist-packages (from tensordiffeq) (1.19.5)\n",
            "Requirement already satisfied: tensorflow in /usr/local/lib/python3.7/dist-packages (from tensordiffeq) (2.4.1)\n",
            "Requirement already satisfied: pyfiglet in /usr/local/lib/python3.7/dist-packages (from tensordiffeq) (0.8.post1)\n",
            "Requirement already satisfied: pyDOE2 in /usr/local/lib/python3.7/dist-packages (from tensordiffeq) (1.3.0)\n",
            "Requirement already satisfied: tqdm in /usr/local/lib/python3.7/dist-packages (from tensordiffeq) (4.41.1)\n",
            "Requirement already satisfied: scipy in /usr/local/lib/python3.7/dist-packages (from tensordiffeq) (1.4.1)\n",
            "Requirement already satisfied: gast>=0.3.2 in /usr/local/lib/python3.7/dist-packages (from tensorflow-probability->tensordiffeq) (0.3.3)\n",
            "Requirement already satisfied: dm-tree in /usr/local/lib/python3.7/dist-packages (from tensorflow-probability->tensordiffeq) (0.1.6)\n",
            "Requirement already satisfied: decorator in /usr/local/lib/python3.7/dist-packages (from tensorflow-probability->tensordiffeq) (4.4.2)\n",
            "Requirement already satisfied: cloudpickle>=1.3 in /usr/local/lib/python3.7/dist-packages (from tensorflow-probability->tensordiffeq) (1.3.0)\n",
            "Requirement already satisfied: six>=1.10.0 in /usr/local/lib/python3.7/dist-packages (from tensorflow-probability->tensordiffeq) (1.15.0)\n",
            "Requirement already satisfied: kiwisolver>=1.0.1 in /usr/local/lib/python3.7/dist-packages (from matplotlib->tensordiffeq) (1.3.1)\n",
            "Requirement already satisfied: cycler>=0.10 in /usr/local/lib/python3.7/dist-packages (from matplotlib->tensordiffeq) (0.10.0)\n",
            "Requirement already satisfied: pyparsing!=2.0.4,!=2.1.2,!=2.1.6,>=2.0.1 in /usr/local/lib/python3.7/dist-packages (from matplotlib->tensordiffeq) (2.4.7)\n",
            "Requirement already satisfied: python-dateutil>=2.1 in /usr/local/lib/python3.7/dist-packages (from matplotlib->tensordiffeq) (2.8.1)\n",
            "Requirement already satisfied: h5py~=2.10.0 in /usr/local/lib/python3.7/dist-packages (from tensorflow->tensordiffeq) (2.10.0)\n",
            "Requirement already satisfied: tensorboard~=2.4 in /usr/local/lib/python3.7/dist-packages (from tensorflow->tensordiffeq) (2.4.1)\n",
            "Requirement already satisfied: absl-py~=0.10 in /usr/local/lib/python3.7/dist-packages (from tensorflow->tensordiffeq) (0.12.0)\n",
            "Requirement already satisfied: google-pasta~=0.2 in /usr/local/lib/python3.7/dist-packages (from tensorflow->tensordiffeq) (0.2.0)\n",
            "Requirement already satisfied: keras-preprocessing~=1.1.2 in /usr/local/lib/python3.7/dist-packages (from tensorflow->tensordiffeq) (1.1.2)\n",
            "Requirement already satisfied: opt-einsum~=3.3.0 in /usr/local/lib/python3.7/dist-packages (from tensorflow->tensordiffeq) (3.3.0)\n",
            "Requirement already satisfied: termcolor~=1.1.0 in /usr/local/lib/python3.7/dist-packages (from tensorflow->tensordiffeq) (1.1.0)\n",
            "Requirement already satisfied: flatbuffers~=1.12.0 in /usr/local/lib/python3.7/dist-packages (from tensorflow->tensordiffeq) (1.12)\n",
            "Requirement already satisfied: typing-extensions~=3.7.4 in /usr/local/lib/python3.7/dist-packages (from tensorflow->tensordiffeq) (3.7.4.3)\n",
            "Requirement already satisfied: wrapt~=1.12.1 in /usr/local/lib/python3.7/dist-packages (from tensorflow->tensordiffeq) (1.12.1)\n",
            "Requirement already satisfied: astunparse~=1.6.3 in /usr/local/lib/python3.7/dist-packages (from tensorflow->tensordiffeq) (1.6.3)\n",
            "Requirement already satisfied: tensorflow-estimator<2.5.0,>=2.4.0 in /usr/local/lib/python3.7/dist-packages (from tensorflow->tensordiffeq) (2.4.0)\n",
            "Requirement already satisfied: protobuf>=3.9.2 in /usr/local/lib/python3.7/dist-packages (from tensorflow->tensordiffeq) (3.12.4)\n",
            "Requirement already satisfied: grpcio~=1.32.0 in /usr/local/lib/python3.7/dist-packages (from tensorflow->tensordiffeq) (1.32.0)\n",
            "Requirement already satisfied: wheel~=0.35 in /usr/local/lib/python3.7/dist-packages (from tensorflow->tensordiffeq) (0.36.2)\n",
            "Requirement already satisfied: setuptools>=41.0.0 in /usr/local/lib/python3.7/dist-packages (from tensorboard~=2.4->tensorflow->tensordiffeq) (56.0.0)\n",
            "Requirement already satisfied: werkzeug>=0.11.15 in /usr/local/lib/python3.7/dist-packages (from tensorboard~=2.4->tensorflow->tensordiffeq) (1.0.1)\n",
            "Requirement already satisfied: markdown>=2.6.8 in /usr/local/lib/python3.7/dist-packages (from tensorboard~=2.4->tensorflow->tensordiffeq) (3.3.4)\n",
            "Requirement already satisfied: requests<3,>=2.21.0 in /usr/local/lib/python3.7/dist-packages (from tensorboard~=2.4->tensorflow->tensordiffeq) (2.23.0)\n",
            "Requirement already satisfied: google-auth-oauthlib<0.5,>=0.4.1 in /usr/local/lib/python3.7/dist-packages (from tensorboard~=2.4->tensorflow->tensordiffeq) (0.4.4)\n",
            "Requirement already satisfied: google-auth<2,>=1.6.3 in /usr/local/lib/python3.7/dist-packages (from tensorboard~=2.4->tensorflow->tensordiffeq) (1.28.1)\n",
            "Requirement already satisfied: tensorboard-plugin-wit>=1.6.0 in /usr/local/lib/python3.7/dist-packages (from tensorboard~=2.4->tensorflow->tensordiffeq) (1.8.0)\n",
            "Requirement already satisfied: importlib-metadata; python_version < \"3.8\" in /usr/local/lib/python3.7/dist-packages (from markdown>=2.6.8->tensorboard~=2.4->tensorflow->tensordiffeq) (3.10.1)\n",
            "Requirement already satisfied: idna<3,>=2.5 in /usr/local/lib/python3.7/dist-packages (from requests<3,>=2.21.0->tensorboard~=2.4->tensorflow->tensordiffeq) (2.10)\n",
            "Requirement already satisfied: certifi>=2017.4.17 in /usr/local/lib/python3.7/dist-packages (from requests<3,>=2.21.0->tensorboard~=2.4->tensorflow->tensordiffeq) (2020.12.5)\n",
            "Requirement already satisfied: urllib3!=1.25.0,!=1.25.1,<1.26,>=1.21.1 in /usr/local/lib/python3.7/dist-packages (from requests<3,>=2.21.0->tensorboard~=2.4->tensorflow->tensordiffeq) (1.24.3)\n",
            "Requirement already satisfied: chardet<4,>=3.0.2 in /usr/local/lib/python3.7/dist-packages (from requests<3,>=2.21.0->tensorboard~=2.4->tensorflow->tensordiffeq) (3.0.4)\n",
            "Requirement already satisfied: requests-oauthlib>=0.7.0 in /usr/local/lib/python3.7/dist-packages (from google-auth-oauthlib<0.5,>=0.4.1->tensorboard~=2.4->tensorflow->tensordiffeq) (1.3.0)\n",
            "Requirement already satisfied: pyasn1-modules>=0.2.1 in /usr/local/lib/python3.7/dist-packages (from google-auth<2,>=1.6.3->tensorboard~=2.4->tensorflow->tensordiffeq) (0.2.8)\n",
            "Requirement already satisfied: cachetools<5.0,>=2.0.0 in /usr/local/lib/python3.7/dist-packages (from google-auth<2,>=1.6.3->tensorboard~=2.4->tensorflow->tensordiffeq) (4.2.1)\n",
            "Requirement already satisfied: rsa<5,>=3.1.4; python_version >= \"3.6\" in /usr/local/lib/python3.7/dist-packages (from google-auth<2,>=1.6.3->tensorboard~=2.4->tensorflow->tensordiffeq) (4.7.2)\n",
            "Requirement already satisfied: zipp>=0.5 in /usr/local/lib/python3.7/dist-packages (from importlib-metadata; python_version < \"3.8\"->markdown>=2.6.8->tensorboard~=2.4->tensorflow->tensordiffeq) (3.4.1)\n",
            "Requirement already satisfied: oauthlib>=3.0.0 in /usr/local/lib/python3.7/dist-packages (from requests-oauthlib>=0.7.0->google-auth-oauthlib<0.5,>=0.4.1->tensorboard~=2.4->tensorflow->tensordiffeq) (3.1.0)\n",
            "Requirement already satisfied: pyasn1<0.5.0,>=0.4.6 in /usr/local/lib/python3.7/dist-packages (from pyasn1-modules>=0.2.1->google-auth<2,>=1.6.3->tensorboard~=2.4->tensorflow->tensordiffeq) (0.4.8)\n"
          ],
          "name": "stdout"
        }
      ]
    },
    {
      "cell_type": "markdown",
      "metadata": {
        "id": "RHNzVSL6ShXX"
      },
      "source": [
        "Now we run some manditory import statements, including math and scipy for importing the exact solution a little later on. Notice that we dont need to import Tensorflow as tdq installs that for us"
      ]
    },
    {
      "cell_type": "code",
      "metadata": {
        "id": "kvjS0EYayBAO"
      },
      "source": [
        "import math\n",
        "import scipy.io\n",
        "import tensordiffeq as tdq\n",
        "from tensordiffeq.boundaries import *\n",
        "from tensordiffeq.models import CollocationSolverND"
      ],
      "execution_count": 2,
      "outputs": []
    },
    {
      "cell_type": "markdown",
      "metadata": {
        "id": "BoKpRn1hSzAl"
      },
      "source": [
        "The first step of any forward or inverse problem is defining the domain on which the solution lies"
      ]
    },
    {
      "cell_type": "code",
      "metadata": {
        "id": "84PY7jJdyeSU"
      },
      "source": [
        "Domain = DomainND([\"x\", \"t\"], time_var='t')\n",
        "\n",
        "Domain.add(\"x\", [-1.0, 1.0], 256)\n",
        "Domain.add(\"t\", [0.0, 1.0], 100)"
      ],
      "execution_count": 3,
      "outputs": []
    },
    {
      "cell_type": "markdown",
      "metadata": {
        "id": "UtEJqgUJTNsj"
      },
      "source": [
        "Next, we need to generate collocation points inside the domain for training"
      ]
    },
    {
      "cell_type": "code",
      "metadata": {
        "id": "IYgdkZ0cyeGk"
      },
      "source": [
        "N_f = 10000\n",
        "Domain.generate_collocation_points(N_f)"
      ],
      "execution_count": 4,
      "outputs": []
    },
    {
      "cell_type": "markdown",
      "metadata": {
        "id": "QtbsWm7yTX2v"
      },
      "source": [
        "Define the initial condition function"
      ]
    },
    {
      "cell_type": "code",
      "metadata": {
        "id": "KMH-_aAWydwy"
      },
      "source": [
        "def func_ic(x):\n",
        "    return -np.sin(x * math.pi)"
      ],
      "execution_count": 5,
      "outputs": []
    },
    {
      "cell_type": "markdown",
      "metadata": {
        "id": "wQci9QGQTkHK"
      },
      "source": [
        "Define the actual initial condition method, and the subsequent upper and lower dirichlect BCs. "
      ]
    },
    {
      "cell_type": "code",
      "metadata": {
        "id": "anMC_NDxydmI"
      },
      "source": [
        "init = IC(Domain, [func_ic], var=[['x']])\n",
        "upper_x = dirichletBC(Domain, val=0.0, var='x', target=\"upper\")\n",
        "lower_x = dirichletBC(Domain, val=0.0, var='x', target=\"lower\")\n"
      ],
      "execution_count": 6,
      "outputs": []
    },
    {
      "cell_type": "markdown",
      "metadata": {
        "id": "_y1QI-LPTiZG"
      },
      "source": [
        "tdq takes in initial conditions and boundary conditions as a list"
      ]
    },
    {
      "cell_type": "code",
      "metadata": {
        "id": "LMtkNiz7ydMo"
      },
      "source": [
        "BCs = [init, upper_x, lower_x]"
      ],
      "execution_count": 7,
      "outputs": []
    },
    {
      "cell_type": "markdown",
      "metadata": {
        "id": "jdttAnGLWDcd"
      },
      "source": [
        "Define the strong-form PDE in terms of tf.gradients where derivatives are required. "
      ]
    },
    {
      "cell_type": "code",
      "metadata": {
        "id": "qXiB1Wi9yc8g"
      },
      "source": [
        "def f_model(u_model, x, t):\n",
        "    u = u_model(tf.concat([x, t], 1))\n",
        "    u_x = tf.gradients(u, x)\n",
        "    u_xx = tf.gradients(u_x, x)\n",
        "    u_t = tf.gradients(u, t)\n",
        "    f_u = u_t + u * u_x - (0.01 / tf.constant(math.pi)) * u_xx\n",
        "    return f_u"
      ],
      "execution_count": 8,
      "outputs": []
    },
    {
      "cell_type": "markdown",
      "metadata": {
        "id": "ukT28x7VWvSX"
      },
      "source": [
        "Define layer sizes as a list of hidden layer widths"
      ]
    },
    {
      "cell_type": "code",
      "metadata": {
        "id": "Wk9lj4vhybaI"
      },
      "source": [
        "layer_sizes = [2, 20, 20, 20, 20, 20, 1]"
      ],
      "execution_count": 9,
      "outputs": []
    },
    {
      "cell_type": "markdown",
      "metadata": {
        "id": "xnxtzWtyW5mY"
      },
      "source": [
        "Define the model, compile the model using the defined layer sizes, PDE model, and domain/BCs, and call model.fit"
      ]
    },
    {
      "cell_type": "code",
      "metadata": {
        "colab": {
          "base_uri": "https://localhost:8080/",
          "height": 676,
          "referenced_widgets": [
            "3cf287d87060456fa74f8b5abe17d283",
            "38b0a7fb312e45bc9c873db7d9c5289b",
            "5c53020c3caa4aeea7c4ef19400f0abb",
            "5960d3b93bde4c50a7e2f101d0027be1",
            "2f050e3610f142b5948e994f4719eda9",
            "17547468e4a14aab9098ffbe7ca1ffcb",
            "b9967c16a5e4444fafc70d9f0d1193d6",
            "1f266519be0e437d990293737a7f3f39",
            "6f131abc78bb46df99b2a323246d7d1e",
            "c5a36d653a9e4f819eb1b7a5c375b065",
            "90424a4e89e543c59adf063e1ca17c97",
            "7424e183bd77411da72bf1e295ce22e7",
            "7c0e3c89e4fd44ce99f949ef7b8684db",
            "27635965c6574b40bf4ef2027b3ae12d",
            "2896c9d09d064cb0988bdd2a07627df4",
            "2b6dbc3874a64de49e7d9975b2057de6"
          ]
        },
        "id": "JcSIX8NuCzSK",
        "outputId": "0d09530d-d33f-42c6-d113-93e9f349b047"
      },
      "source": [
        "model = CollocationSolverND()\n",
        "model.compile(layer_sizes, f_model, Domain, BCs)\n",
        "# to reproduce results from Raissi and the SA-PINNs paper, train for 10k newton and 10k adam\n",
        "model.fit(tf_iter=2000, newton_iter = 2000)"
      ],
      "execution_count": 13,
      "outputs": [
        {
          "output_type": "stream",
          "text": [
            "  ______                           ____  _ ______________     \n",
            " /_  __/__  ____  _________  _____/ __ \\(_) __/ __/ ____/___ _\n",
            "  / / / _ \\/ __ \\/ ___/ __ \\/ ___/ / / / / /_/ /_/ __/ / __ `/\n",
            " / / /  __/ / / (__  ) /_/ / /  / /_/ / / __/ __/ /___/ /_/ / \n",
            "/_/  \\___/_/ /_/____/\\____/_/  /_____/_/_/ /_/ /_____/\\__, /  \n",
            "                                                        /_/   \n",
            "\n",
            "Neural Network Model Summary\n",
            "\n",
            "Model: \"sequential_1\"\n",
            "_________________________________________________________________\n",
            "Layer (type)                 Output Shape              Param #   \n",
            "=================================================================\n",
            "dense_6 (Dense)              (None, 20)                60        \n",
            "_________________________________________________________________\n",
            "dense_7 (Dense)              (None, 20)                420       \n",
            "_________________________________________________________________\n",
            "dense_8 (Dense)              (None, 20)                420       \n",
            "_________________________________________________________________\n",
            "dense_9 (Dense)              (None, 20)                420       \n",
            "_________________________________________________________________\n",
            "dense_10 (Dense)             (None, 20)                420       \n",
            "_________________________________________________________________\n",
            "dense_11 (Dense)             (None, 1)                 21        \n",
            "=================================================================\n",
            "Total params: 1,761\n",
            "Trainable params: 1,761\n",
            "Non-trainable params: 0\n",
            "_________________________________________________________________\n",
            "None\n",
            "starting Adam training\n"
          ],
          "name": "stdout"
        },
        {
          "output_type": "display_data",
          "data": {
            "application/vnd.jupyter.widget-view+json": {
              "model_id": "3cf287d87060456fa74f8b5abe17d283",
              "version_minor": 0,
              "version_major": 2
            },
            "text/plain": [
              "HBox(children=(FloatProgress(value=0.0, max=2000.0), HTML(value='')))"
            ]
          },
          "metadata": {
            "tags": []
          }
        },
        {
          "output_type": "stream",
          "text": [
            "\n",
            "Starting L-BFGS training\n",
            "Executing eager-mode L-BFGS\n"
          ],
          "name": "stdout"
        },
        {
          "output_type": "display_data",
          "data": {
            "application/vnd.jupyter.widget-view+json": {
              "model_id": "6f131abc78bb46df99b2a323246d7d1e",
              "version_minor": 0,
              "version_major": 2
            },
            "text/plain": [
              "HBox(children=(FloatProgress(value=0.0, max=2000.0), HTML(value='')))"
            ]
          },
          "metadata": {
            "tags": []
          }
        },
        {
          "output_type": "stream",
          "text": [
            "\n"
          ],
          "name": "stdout"
        }
      ]
    },
    {
      "cell_type": "markdown",
      "metadata": {
        "id": "QCFwMS8QXLAV"
      },
      "source": [
        "Download high-fidelity solution data for comparison and L2 error calculations"
      ]
    },
    {
      "cell_type": "code",
      "metadata": {
        "colab": {
          "base_uri": "https://localhost:8080/"
        },
        "id": "dd8vHE8FCzdZ",
        "outputId": "a336ff5b-3d1c-4559-e760-707b7a22ff8b"
      },
      "source": [
        "!wget --no-check-certificate https://github.com/tensordiffeq/TensorDiffEq/blob/main/examples/burgers_shock.mat?raw=true \\\n",
        "    -O burgers_shock.mat"
      ],
      "execution_count": 14,
      "outputs": [
        {
          "output_type": "stream",
          "text": [
            "--2021-05-06 02:03:09--  https://github.com/tensordiffeq/TensorDiffEq/blob/main/examples/burgers_shock.mat?raw=true\n",
            "Resolving github.com (github.com)... 192.30.255.113\n",
            "Connecting to github.com (github.com)|192.30.255.113|:443... connected.\n",
            "HTTP request sent, awaiting response... 302 Found\n",
            "Location: https://github.com/tensordiffeq/TensorDiffEq/raw/main/examples/burgers_shock.mat [following]\n",
            "--2021-05-06 02:03:10--  https://github.com/tensordiffeq/TensorDiffEq/raw/main/examples/burgers_shock.mat\n",
            "Reusing existing connection to github.com:443.\n",
            "HTTP request sent, awaiting response... 302 Found\n",
            "Location: https://raw.githubusercontent.com/tensordiffeq/TensorDiffEq/main/examples/burgers_shock.mat [following]\n",
            "--2021-05-06 02:03:10--  https://raw.githubusercontent.com/tensordiffeq/TensorDiffEq/main/examples/burgers_shock.mat\n",
            "Resolving raw.githubusercontent.com (raw.githubusercontent.com)... 185.199.111.133, 185.199.110.133, 185.199.108.133, ...\n",
            "Connecting to raw.githubusercontent.com (raw.githubusercontent.com)|185.199.111.133|:443... connected.\n",
            "HTTP request sent, awaiting response... 200 OK\n",
            "Length: 207944 (203K) [application/octet-stream]\n",
            "Saving to: ‘burgers_shock.mat’\n",
            "\n",
            "burgers_shock.mat   100%[===================>] 203.07K  --.-KB/s    in 0.02s   \n",
            "\n",
            "2021-05-06 02:03:10 (10.7 MB/s) - ‘burgers_shock.mat’ saved [207944/207944]\n",
            "\n"
          ],
          "name": "stdout"
        }
      ]
    },
    {
      "cell_type": "markdown",
      "metadata": {
        "id": "5OmNXFu7XZN8"
      },
      "source": [
        "Import the high-fidelity solution, calculate the L2 error, and plot the solution domain "
      ]
    },
    {
      "cell_type": "code",
      "metadata": {
        "colab": {
          "base_uri": "https://localhost:8080/",
          "height": 372
        },
        "id": "gNI_NW1ECzrd",
        "outputId": "75e177c3-1b39-4f45-d0d2-acc5f2e0be09"
      },
      "source": [
        "data = scipy.io.loadmat('burgers_shock.mat')\n",
        "\n",
        "Exact = data['usol']\n",
        "Exact_u = np.real(Exact)\n",
        "\n",
        "# t = data['tt'].flatten()[:,None]\n",
        "# x = data['x'].flatten()[:,None]\n",
        "\n",
        "x = Domain.domaindict[0]['xlinspace']\n",
        "t = Domain.domaindict[1][\"tlinspace\"]\n",
        "\n",
        "X, T = np.meshgrid(x, t)\n",
        "\n",
        "# print(np.shape((X,T))) #2, 100, 256\n",
        "X_star = np.hstack((X.flatten()[:, None], T.flatten()[:, None]))\n",
        "u_star = Exact_u.T.flatten()[:, None]\n",
        "\n",
        "u_pred, f_u_pred = model.predict(X_star)\n",
        "\n",
        "error_u = tdq.helpers.find_L2_error(u_pred, u_star)\n",
        "print('Error u: %e' % (error_u))\n",
        "\n",
        "U_pred = tdq.plotting.get_griddata(X_star, u_pred.flatten(), (X, T))\n",
        "FU_pred = tdq.plotting.get_griddata(X_star, f_u_pred.flatten(), (X, T))\n",
        "\n",
        "lb = np.array([-1.0, 0.0])\n",
        "ub = np.array([1.0, 1])\n",
        "\n",
        "tdq.plotting.plot_solution_domain1D(model, [x, t], ub=ub, lb=lb, Exact_u=Exact_u)"
      ],
      "execution_count": 12,
      "outputs": [
        {
          "output_type": "stream",
          "text": [
            "Error u: 4.793710e-03\n"
          ],
          "name": "stdout"
        },
        {
          "output_type": "stream",
          "text": [
            "No handles with labels found to put in legend.\n"
          ],
          "name": "stderr"
        },
        {
          "output_type": "display_data",
          "data": {
            "image/png": "[encoded data removed]",
            "text/plain": [
              "<Figure size 505.106x312.173 with 5 Axes>"
            ]
          },
          "metadata": {
            "tags": [],
            "needs_background": "light"
          }
        }
      ]
    },
    {
      "cell_type": "code",
      "metadata": {
        "id": "mokOhZHdCz0Q"
      },
      "source": [
        ""
      ],
      "execution_count": 12,
      "outputs": []
    },
    {
      "cell_type": "code",
      "metadata": {
        "id": "6iLJQSsiC1FD"
      },
      "source": [
        ""
      ],
      "execution_count": 12,
      "outputs": []
    },
    {
      "cell_type": "code",
      "metadata": {
        "id": "pMwPS5ugC1GL"
      },
      "source": [
        ""
      ],
      "execution_count": 12,
      "outputs": []
    }
  ]
}