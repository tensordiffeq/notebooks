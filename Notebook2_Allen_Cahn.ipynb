{
  "nbformat": 4,
  "nbformat_minor": 0,
  "metadata": {
    "colab": {
      "name": "Notebook2-Allen-Cahn.ipynb",
      "provenance": [],
      "collapsed_sections": [],
      "include_colab_link": true
    },
    "kernelspec": {
      "name": "python3",
      "display_name": "Python 3"
    },
    "accelerator": "GPU",
    "widgets": {
      "application/vnd.jupyter.widget-state+json": {
        "25728485533a44d580be4503dcdcb147": {
          "model_module": "@jupyter-widgets/controls",
          "model_name": "HBoxModel",
          "state": {
            "_view_name": "HBoxView",
            "_dom_classes": [],
            "_model_name": "HBoxModel",
            "_view_module": "@jupyter-widgets/controls",
            "_model_module_version": "1.5.0",
            "_view_count": null,
            "_view_module_version": "1.5.0",
            "box_style": "",
            "layout": "IPY_MODEL_8117df14331b41cb8b023675d6ccd70e",
            "_model_module": "@jupyter-widgets/controls",
            "children": [
              "IPY_MODEL_121e16ea1fab4b8ba7a1a41de817ec0f",
              "IPY_MODEL_70008091e4444776a4add4c520ae8936"
            ]
          }
        },
        "8117df14331b41cb8b023675d6ccd70e": {
          "model_module": "@jupyter-widgets/base",
          "model_name": "LayoutModel",
          "state": {
            "_view_name": "LayoutView",
            "grid_template_rows": null,
            "right": null,
            "justify_content": null,
            "_view_module": "@jupyter-widgets/base",
            "overflow": null,
            "_model_module_version": "1.2.0",
            "_view_count": null,
            "flex_flow": null,
            "width": null,
            "min_width": null,
            "border": null,
            "align_items": null,
            "bottom": null,
            "_model_module": "@jupyter-widgets/base",
            "top": null,
            "grid_column": null,
            "overflow_y": null,
            "overflow_x": null,
            "grid_auto_flow": null,
            "grid_area": null,
            "grid_template_columns": null,
            "flex": null,
            "_model_name": "LayoutModel",
            "justify_items": null,
            "grid_row": null,
            "max_height": null,
            "align_content": null,
            "visibility": null,
            "align_self": null,
            "height": null,
            "min_height": null,
            "padding": null,
            "grid_auto_rows": null,
            "grid_gap": null,
            "max_width": null,
            "order": null,
            "_view_module_version": "1.2.0",
            "grid_template_areas": null,
            "object_position": null,
            "object_fit": null,
            "grid_auto_columns": null,
            "margin": null,
            "display": null,
            "left": null
          }
        },
        "121e16ea1fab4b8ba7a1a41de817ec0f": {
          "model_module": "@jupyter-widgets/controls",
          "model_name": "FloatProgressModel",
          "state": {
            "_view_name": "ProgressView",
            "style": "IPY_MODEL_5f8f73c6e455489da7ecbd7306a47bf0",
            "_dom_classes": [],
            "description": "Adam epoch 10000: 100%",
            "_model_name": "FloatProgressModel",
            "bar_style": "success",
            "max": 10000,
            "_view_module": "@jupyter-widgets/controls",
            "_model_module_version": "1.5.0",
            "value": 10000,
            "_view_count": null,
            "_view_module_version": "1.5.0",
            "orientation": "horizontal",
            "min": 0,
            "description_tooltip": null,
            "_model_module": "@jupyter-widgets/controls",
            "layout": "IPY_MODEL_719bb2794a6940cfaa0d562365e1b683"
          }
        },
        "70008091e4444776a4add4c520ae8936": {
          "model_module": "@jupyter-widgets/controls",
          "model_name": "HTMLModel",
          "state": {
            "_view_name": "HTMLView",
            "style": "IPY_MODEL_7f88fa371162428c813d1864e600d4a5",
            "_dom_classes": [],
            "description": "",
            "_model_name": "HTMLModel",
            "placeholder": "​",
            "_view_module": "@jupyter-widgets/controls",
            "_model_module_version": "1.5.0",
            "value": " 10000/10000 [02:09&lt;00:00, 77.06it/s, loss=0.0187]",
            "_view_count": null,
            "_view_module_version": "1.5.0",
            "description_tooltip": null,
            "_model_module": "@jupyter-widgets/controls",
            "layout": "IPY_MODEL_255b663b1d4b4e728bc33fe24f5073b6"
          }
        },
        "5f8f73c6e455489da7ecbd7306a47bf0": {
          "model_module": "@jupyter-widgets/controls",
          "model_name": "ProgressStyleModel",
          "state": {
            "_view_name": "StyleView",
            "_model_name": "ProgressStyleModel",
            "description_width": "initial",
            "_view_module": "@jupyter-widgets/base",
            "_model_module_version": "1.5.0",
            "_view_count": null,
            "_view_module_version": "1.2.0",
            "bar_color": null,
            "_model_module": "@jupyter-widgets/controls"
          }
        },
        "719bb2794a6940cfaa0d562365e1b683": {
          "model_module": "@jupyter-widgets/base",
          "model_name": "LayoutModel",
          "state": {
            "_view_name": "LayoutView",
            "grid_template_rows": null,
            "right": null,
            "justify_content": null,
            "_view_module": "@jupyter-widgets/base",
            "overflow": null,
            "_model_module_version": "1.2.0",
            "_view_count": null,
            "flex_flow": null,
            "width": null,
            "min_width": null,
            "border": null,
            "align_items": null,
            "bottom": null,
            "_model_module": "@jupyter-widgets/base",
            "top": null,
            "grid_column": null,
            "overflow_y": null,
            "overflow_x": null,
            "grid_auto_flow": null,
            "grid_area": null,
            "grid_template_columns": null,
            "flex": null,
            "_model_name": "LayoutModel",
            "justify_items": null,
            "grid_row": null,
            "max_height": null,
            "align_content": null,
            "visibility": null,
            "align_self": null,
            "height": null,
            "min_height": null,
            "padding": null,
            "grid_auto_rows": null,
            "grid_gap": null,
            "max_width": null,
            "order": null,
            "_view_module_version": "1.2.0",
            "grid_template_areas": null,
            "object_position": null,
            "object_fit": null,
            "grid_auto_columns": null,
            "margin": null,
            "display": null,
            "left": null
          }
        },
        "7f88fa371162428c813d1864e600d4a5": {
          "model_module": "@jupyter-widgets/controls",
          "model_name": "DescriptionStyleModel",
          "state": {
            "_view_name": "StyleView",
            "_model_name": "DescriptionStyleModel",
            "description_width": "",
            "_view_module": "@jupyter-widgets/base",
            "_model_module_version": "1.5.0",
            "_view_count": null,
            "_view_module_version": "1.2.0",
            "_model_module": "@jupyter-widgets/controls"
          }
        },
        "255b663b1d4b4e728bc33fe24f5073b6": {
          "model_module": "@jupyter-widgets/base",
          "model_name": "LayoutModel",
          "state": {
            "_view_name": "LayoutView",
            "grid_template_rows": null,
            "right": null,
            "justify_content": null,
            "_view_module": "@jupyter-widgets/base",
            "overflow": null,
            "_model_module_version": "1.2.0",
            "_view_count": null,
            "flex_flow": null,
            "width": null,
            "min_width": null,
            "border": null,
            "align_items": null,
            "bottom": null,
            "_model_module": "@jupyter-widgets/base",
            "top": null,
            "grid_column": null,
            "overflow_y": null,
            "overflow_x": null,
            "grid_auto_flow": null,
            "grid_area": null,
            "grid_template_columns": null,
            "flex": null,
            "_model_name": "LayoutModel",
            "justify_items": null,
            "grid_row": null,
            "max_height": null,
            "align_content": null,
            "visibility": null,
            "align_self": null,
            "height": null,
            "min_height": null,
            "padding": null,
            "grid_auto_rows": null,
            "grid_gap": null,
            "max_width": null,
            "order": null,
            "_view_module_version": "1.2.0",
            "grid_template_areas": null,
            "object_position": null,
            "object_fit": null,
            "grid_auto_columns": null,
            "margin": null,
            "display": null,
            "left": null
          }
        },
        "74ee5d6a5d084cd0988e678a7f754fa9": {
          "model_module": "@jupyter-widgets/controls",
          "model_name": "HBoxModel",
          "state": {
            "_view_name": "HBoxView",
            "_dom_classes": [],
            "_model_name": "HBoxModel",
            "_view_module": "@jupyter-widgets/controls",
            "_model_module_version": "1.5.0",
            "_view_count": null,
            "_view_module_version": "1.5.0",
            "box_style": "",
            "layout": "IPY_MODEL_bf753eef8d094eb6af76e738476f5e13",
            "_model_module": "@jupyter-widgets/controls",
            "children": [
              "IPY_MODEL_7a2c5fd953ab4bd6adae87fd5b14e147",
              "IPY_MODEL_c164931b5d854bed80e30ead00383687"
            ]
          }
        },
        "bf753eef8d094eb6af76e738476f5e13": {
          "model_module": "@jupyter-widgets/base",
          "model_name": "LayoutModel",
          "state": {
            "_view_name": "LayoutView",
            "grid_template_rows": null,
            "right": null,
            "justify_content": null,
            "_view_module": "@jupyter-widgets/base",
            "overflow": null,
            "_model_module_version": "1.2.0",
            "_view_count": null,
            "flex_flow": null,
            "width": null,
            "min_width": null,
            "border": null,
            "align_items": null,
            "bottom": null,
            "_model_module": "@jupyter-widgets/base",
            "top": null,
            "grid_column": null,
            "overflow_y": null,
            "overflow_x": null,
            "grid_auto_flow": null,
            "grid_area": null,
            "grid_template_columns": null,
            "flex": null,
            "_model_name": "LayoutModel",
            "justify_items": null,
            "grid_row": null,
            "max_height": null,
            "align_content": null,
            "visibility": null,
            "align_self": null,
            "height": null,
            "min_height": null,
            "padding": null,
            "grid_auto_rows": null,
            "grid_gap": null,
            "max_width": null,
            "order": null,
            "_view_module_version": "1.2.0",
            "grid_template_areas": null,
            "object_position": null,
            "object_fit": null,
            "grid_auto_columns": null,
            "margin": null,
            "display": null,
            "left": null
          }
        },
        "7a2c5fd953ab4bd6adae87fd5b14e147": {
          "model_module": "@jupyter-widgets/controls",
          "model_name": "FloatProgressModel",
          "state": {
            "_view_name": "ProgressView",
            "style": "IPY_MODEL_5d9e14e89d8b46a3826fb5215860bb37",
            "_dom_classes": [],
            "description": "L-BFGS epoch 1000: 100%",
            "_model_name": "FloatProgressModel",
            "bar_style": "danger",
            "max": 1000,
            "_view_module": "@jupyter-widgets/controls",
            "_model_module_version": "1.5.0",
            "value": 998,
            "_view_count": null,
            "_view_module_version": "1.5.0",
            "orientation": "horizontal",
            "min": 0,
            "description_tooltip": null,
            "_model_module": "@jupyter-widgets/controls",
            "layout": "IPY_MODEL_fa0222dcf784458fb394d091d8ab8991"
          }
        },
        "c164931b5d854bed80e30ead00383687": {
          "model_module": "@jupyter-widgets/controls",
          "model_name": "HTMLModel",
          "state": {
            "_view_name": "HTMLView",
            "style": "IPY_MODEL_732c44b16dbc4c24a1d7311b78a60072",
            "_dom_classes": [],
            "description": "",
            "_model_name": "HTMLModel",
            "placeholder": "​",
            "_view_module": "@jupyter-widgets/controls",
            "_model_module_version": "1.5.0",
            "value": " 998/1000 [01:32&lt;00:00, 10.77it/s, loss=0.00734]",
            "_view_count": null,
            "_view_module_version": "1.5.0",
            "description_tooltip": null,
            "_model_module": "@jupyter-widgets/controls",
            "layout": "IPY_MODEL_3bcf497c7624493c8b80bc689fefe111"
          }
        },
        "5d9e14e89d8b46a3826fb5215860bb37": {
          "model_module": "@jupyter-widgets/controls",
          "model_name": "ProgressStyleModel",
          "state": {
            "_view_name": "StyleView",
            "_model_name": "ProgressStyleModel",
            "description_width": "initial",
            "_view_module": "@jupyter-widgets/base",
            "_model_module_version": "1.5.0",
            "_view_count": null,
            "_view_module_version": "1.2.0",
            "bar_color": null,
            "_model_module": "@jupyter-widgets/controls"
          }
        },
        "fa0222dcf784458fb394d091d8ab8991": {
          "model_module": "@jupyter-widgets/base",
          "model_name": "LayoutModel",
          "state": {
            "_view_name": "LayoutView",
            "grid_template_rows": null,
            "right": null,
            "justify_content": null,
            "_view_module": "@jupyter-widgets/base",
            "overflow": null,
            "_model_module_version": "1.2.0",
            "_view_count": null,
            "flex_flow": null,
            "width": null,
            "min_width": null,
            "border": null,
            "align_items": null,
            "bottom": null,
            "_model_module": "@jupyter-widgets/base",
            "top": null,
            "grid_column": null,
            "overflow_y": null,
            "overflow_x": null,
            "grid_auto_flow": null,
            "grid_area": null,
            "grid_template_columns": null,
            "flex": null,
            "_model_name": "LayoutModel",
            "justify_items": null,
            "grid_row": null,
            "max_height": null,
            "align_content": null,
            "visibility": null,
            "align_self": null,
            "height": null,
            "min_height": null,
            "padding": null,
            "grid_auto_rows": null,
            "grid_gap": null,
            "max_width": null,
            "order": null,
            "_view_module_version": "1.2.0",
            "grid_template_areas": null,
            "object_position": null,
            "object_fit": null,
            "grid_auto_columns": null,
            "margin": null,
            "display": null,
            "left": null
          }
        },
        "732c44b16dbc4c24a1d7311b78a60072": {
          "model_module": "@jupyter-widgets/controls",
          "model_name": "DescriptionStyleModel",
          "state": {
            "_view_name": "StyleView",
            "_model_name": "DescriptionStyleModel",
            "description_width": "",
            "_view_module": "@jupyter-widgets/base",
            "_model_module_version": "1.5.0",
            "_view_count": null,
            "_view_module_version": "1.2.0",
            "_model_module": "@jupyter-widgets/controls"
          }
        },
        "3bcf497c7624493c8b80bc689fefe111": {
          "model_module": "@jupyter-widgets/base",
          "model_name": "LayoutModel",
          "state": {
            "_view_name": "LayoutView",
            "grid_template_rows": null,
            "right": null,
            "justify_content": null,
            "_view_module": "@jupyter-widgets/base",
            "overflow": null,
            "_model_module_version": "1.2.0",
            "_view_count": null,
            "flex_flow": null,
            "width": null,
            "min_width": null,
            "border": null,
            "align_items": null,
            "bottom": null,
            "_model_module": "@jupyter-widgets/base",
            "top": null,
            "grid_column": null,
            "overflow_y": null,
            "overflow_x": null,
            "grid_auto_flow": null,
            "grid_area": null,
            "grid_template_columns": null,
            "flex": null,
            "_model_name": "LayoutModel",
            "justify_items": null,
            "grid_row": null,
            "max_height": null,
            "align_content": null,
            "visibility": null,
            "align_self": null,
            "height": null,
            "min_height": null,
            "padding": null,
            "grid_auto_rows": null,
            "grid_gap": null,
            "max_width": null,
            "order": null,
            "_view_module_version": "1.2.0",
            "grid_template_areas": null,
            "object_position": null,
            "object_fit": null,
            "grid_auto_columns": null,
            "margin": null,
            "display": null,
            "left": null
          }
        }
      }
    }
  },
  "cells": [
    {
      "cell_type": "markdown",
      "metadata": {
        "id": "view-in-github",
        "colab_type": "text"
      },
      "source": [
        "<a href=\"https://colab.research.google.com/github/levimcclenny/notebooks/blob/main/Notebook2_Allen_Cahn.ipynb\" target=\"_parent\"><img src=\"https://colab.research.google.com/assets/colab-badge.svg\" alt=\"Open In Colab\"/></a>"
      ]
    },
    {
      "cell_type": "markdown",
      "metadata": {
        "id": "zcCK-HrHna9E"
      },
      "source": [
        "# Allen-Cahn using the SA-PINN\n",
        "\n",
        "In this example we will explore a few more advanced features of TensorDiffEq, such as self-adaptive solving, in order to solve harder systems of PDEs. In this example, we will solve the Allen-Cahn equation, taking the form:\n",
        "\n",
        "$u_t -0.0001u_{xx} + 5u^3 -5u = 0\\,, \\ \\  x \\in [-1,1], \\ t \\in [0,1]\\,, $ \\\\\n",
        "$ u(x, 0) = x^2cos(\\pi x)\\,$ \\\\\n",
        "$ u(t, -1) = u(t,1)\\, $ \\\\\n",
        "$ u_x(t,-1) = u_x(t,1)\\ $\n",
        "\n",
        "Similar to last time, we first must install the *TensorDiffEq* package"
      ]
    },
    {
      "cell_type": "code",
      "metadata": {
        "id": "TZ5c-jtX5dGf",
        "colab": {
          "base_uri": "https://localhost:8080/"
        },
        "outputId": "14979cad-3261-45fd-b3a2-766124edd109"
      },
      "source": [
        "!pip install tensordiffeq"
      ],
      "execution_count": 1,
      "outputs": [
        {
          "output_type": "stream",
          "text": [
            "Collecting tensordiffeq\n",
            "  Downloading https://files.pythonhosted.org/packages/51/eb/63ade5d089f23f82b806569c37e01fd9467652b22b3df7f57ebc8e29388e/tensordiffeq-0.1.8-py3-none-any.whl\n",
            "Requirement already satisfied: tensorflow-probability in /usr/local/lib/python3.7/dist-packages (from tensordiffeq) (0.12.1)\n",
            "Requirement already satisfied: tensorflow in /usr/local/lib/python3.7/dist-packages (from tensordiffeq) (2.4.1)\n",
            "Requirement already satisfied: numpy in /usr/local/lib/python3.7/dist-packages (from tensordiffeq) (1.19.5)\n",
            "Requirement already satisfied: scipy in /usr/local/lib/python3.7/dist-packages (from tensordiffeq) (1.4.1)\n",
            "Requirement already satisfied: matplotlib in /usr/local/lib/python3.7/dist-packages (from tensordiffeq) (3.2.2)\n",
            "Collecting pyDOE2\n",
            "  Downloading https://files.pythonhosted.org/packages/70/1f/8a2e1b57f6dd22cd2002e4332e229e87a3858d560c516b50ab7fe5bb075c/pyDOE2-1.3.0.tar.gz\n",
            "Collecting pyfiglet\n",
            "\u001b[?25l  Downloading https://files.pythonhosted.org/packages/33/07/fcfdd7a2872f5b348953de35acce1544dab0c1e8368dca54279b1cde5c15/pyfiglet-0.8.post1-py2.py3-none-any.whl (865kB)\n",
            "\u001b[K     |████████████████████████████████| 870kB 32.1MB/s \n",
            "\u001b[?25hRequirement already satisfied: tqdm in /usr/local/lib/python3.7/dist-packages (from tensordiffeq) (4.41.1)\n",
            "Requirement already satisfied: dm-tree in /usr/local/lib/python3.7/dist-packages (from tensorflow-probability->tensordiffeq) (0.1.6)\n",
            "Requirement already satisfied: six>=1.10.0 in /usr/local/lib/python3.7/dist-packages (from tensorflow-probability->tensordiffeq) (1.15.0)\n",
            "Requirement already satisfied: cloudpickle>=1.3 in /usr/local/lib/python3.7/dist-packages (from tensorflow-probability->tensordiffeq) (1.3.0)\n",
            "Requirement already satisfied: gast>=0.3.2 in /usr/local/lib/python3.7/dist-packages (from tensorflow-probability->tensordiffeq) (0.3.3)\n",
            "Requirement already satisfied: decorator in /usr/local/lib/python3.7/dist-packages (from tensorflow-probability->tensordiffeq) (4.4.2)\n",
            "Requirement already satisfied: wheel~=0.35 in /usr/local/lib/python3.7/dist-packages (from tensorflow->tensordiffeq) (0.36.2)\n",
            "Requirement already satisfied: opt-einsum~=3.3.0 in /usr/local/lib/python3.7/dist-packages (from tensorflow->tensordiffeq) (3.3.0)\n",
            "Requirement already satisfied: flatbuffers~=1.12.0 in /usr/local/lib/python3.7/dist-packages (from tensorflow->tensordiffeq) (1.12)\n",
            "Requirement already satisfied: keras-preprocessing~=1.1.2 in /usr/local/lib/python3.7/dist-packages (from tensorflow->tensordiffeq) (1.1.2)\n",
            "Requirement already satisfied: protobuf>=3.9.2 in /usr/local/lib/python3.7/dist-packages (from tensorflow->tensordiffeq) (3.12.4)\n",
            "Requirement already satisfied: wrapt~=1.12.1 in /usr/local/lib/python3.7/dist-packages (from tensorflow->tensordiffeq) (1.12.1)\n",
            "Requirement already satisfied: termcolor~=1.1.0 in /usr/local/lib/python3.7/dist-packages (from tensorflow->tensordiffeq) (1.1.0)\n",
            "Requirement already satisfied: h5py~=2.10.0 in /usr/local/lib/python3.7/dist-packages (from tensorflow->tensordiffeq) (2.10.0)\n",
            "Requirement already satisfied: absl-py~=0.10 in /usr/local/lib/python3.7/dist-packages (from tensorflow->tensordiffeq) (0.12.0)\n",
            "Requirement already satisfied: astunparse~=1.6.3 in /usr/local/lib/python3.7/dist-packages (from tensorflow->tensordiffeq) (1.6.3)\n",
            "Requirement already satisfied: typing-extensions~=3.7.4 in /usr/local/lib/python3.7/dist-packages (from tensorflow->tensordiffeq) (3.7.4.3)\n",
            "Requirement already satisfied: tensorflow-estimator<2.5.0,>=2.4.0 in /usr/local/lib/python3.7/dist-packages (from tensorflow->tensordiffeq) (2.4.0)\n",
            "Requirement already satisfied: google-pasta~=0.2 in /usr/local/lib/python3.7/dist-packages (from tensorflow->tensordiffeq) (0.2.0)\n",
            "Requirement already satisfied: tensorboard~=2.4 in /usr/local/lib/python3.7/dist-packages (from tensorflow->tensordiffeq) (2.4.1)\n",
            "Requirement already satisfied: grpcio~=1.32.0 in /usr/local/lib/python3.7/dist-packages (from tensorflow->tensordiffeq) (1.32.0)\n",
            "Requirement already satisfied: kiwisolver>=1.0.1 in /usr/local/lib/python3.7/dist-packages (from matplotlib->tensordiffeq) (1.3.1)\n",
            "Requirement already satisfied: python-dateutil>=2.1 in /usr/local/lib/python3.7/dist-packages (from matplotlib->tensordiffeq) (2.8.1)\n",
            "Requirement already satisfied: pyparsing!=2.0.4,!=2.1.2,!=2.1.6,>=2.0.1 in /usr/local/lib/python3.7/dist-packages (from matplotlib->tensordiffeq) (2.4.7)\n",
            "Requirement already satisfied: cycler>=0.10 in /usr/local/lib/python3.7/dist-packages (from matplotlib->tensordiffeq) (0.10.0)\n",
            "Requirement already satisfied: setuptools in /usr/local/lib/python3.7/dist-packages (from protobuf>=3.9.2->tensorflow->tensordiffeq) (56.0.0)\n",
            "Requirement already satisfied: werkzeug>=0.11.15 in /usr/local/lib/python3.7/dist-packages (from tensorboard~=2.4->tensorflow->tensordiffeq) (1.0.1)\n",
            "Requirement already satisfied: markdown>=2.6.8 in /usr/local/lib/python3.7/dist-packages (from tensorboard~=2.4->tensorflow->tensordiffeq) (3.3.4)\n",
            "Requirement already satisfied: requests<3,>=2.21.0 in /usr/local/lib/python3.7/dist-packages (from tensorboard~=2.4->tensorflow->tensordiffeq) (2.23.0)\n",
            "Requirement already satisfied: google-auth<2,>=1.6.3 in /usr/local/lib/python3.7/dist-packages (from tensorboard~=2.4->tensorflow->tensordiffeq) (1.28.1)\n",
            "Requirement already satisfied: google-auth-oauthlib<0.5,>=0.4.1 in /usr/local/lib/python3.7/dist-packages (from tensorboard~=2.4->tensorflow->tensordiffeq) (0.4.4)\n",
            "Requirement already satisfied: tensorboard-plugin-wit>=1.6.0 in /usr/local/lib/python3.7/dist-packages (from tensorboard~=2.4->tensorflow->tensordiffeq) (1.8.0)\n",
            "Requirement already satisfied: importlib-metadata; python_version < \"3.8\" in /usr/local/lib/python3.7/dist-packages (from markdown>=2.6.8->tensorboard~=2.4->tensorflow->tensordiffeq) (3.10.1)\n",
            "Requirement already satisfied: chardet<4,>=3.0.2 in /usr/local/lib/python3.7/dist-packages (from requests<3,>=2.21.0->tensorboard~=2.4->tensorflow->tensordiffeq) (3.0.4)\n",
            "Requirement already satisfied: urllib3!=1.25.0,!=1.25.1,<1.26,>=1.21.1 in /usr/local/lib/python3.7/dist-packages (from requests<3,>=2.21.0->tensorboard~=2.4->tensorflow->tensordiffeq) (1.24.3)\n",
            "Requirement already satisfied: idna<3,>=2.5 in /usr/local/lib/python3.7/dist-packages (from requests<3,>=2.21.0->tensorboard~=2.4->tensorflow->tensordiffeq) (2.10)\n",
            "Requirement already satisfied: certifi>=2017.4.17 in /usr/local/lib/python3.7/dist-packages (from requests<3,>=2.21.0->tensorboard~=2.4->tensorflow->tensordiffeq) (2020.12.5)\n",
            "Requirement already satisfied: pyasn1-modules>=0.2.1 in /usr/local/lib/python3.7/dist-packages (from google-auth<2,>=1.6.3->tensorboard~=2.4->tensorflow->tensordiffeq) (0.2.8)\n",
            "Requirement already satisfied: rsa<5,>=3.1.4; python_version >= \"3.6\" in /usr/local/lib/python3.7/dist-packages (from google-auth<2,>=1.6.3->tensorboard~=2.4->tensorflow->tensordiffeq) (4.7.2)\n",
            "Requirement already satisfied: cachetools<5.0,>=2.0.0 in /usr/local/lib/python3.7/dist-packages (from google-auth<2,>=1.6.3->tensorboard~=2.4->tensorflow->tensordiffeq) (4.2.1)\n",
            "Requirement already satisfied: requests-oauthlib>=0.7.0 in /usr/local/lib/python3.7/dist-packages (from google-auth-oauthlib<0.5,>=0.4.1->tensorboard~=2.4->tensorflow->tensordiffeq) (1.3.0)\n",
            "Requirement already satisfied: zipp>=0.5 in /usr/local/lib/python3.7/dist-packages (from importlib-metadata; python_version < \"3.8\"->markdown>=2.6.8->tensorboard~=2.4->tensorflow->tensordiffeq) (3.4.1)\n",
            "Requirement already satisfied: pyasn1<0.5.0,>=0.4.6 in /usr/local/lib/python3.7/dist-packages (from pyasn1-modules>=0.2.1->google-auth<2,>=1.6.3->tensorboard~=2.4->tensorflow->tensordiffeq) (0.4.8)\n",
            "Requirement already satisfied: oauthlib>=3.0.0 in /usr/local/lib/python3.7/dist-packages (from requests-oauthlib>=0.7.0->google-auth-oauthlib<0.5,>=0.4.1->tensorboard~=2.4->tensorflow->tensordiffeq) (3.1.0)\n",
            "Building wheels for collected packages: pyDOE2\n",
            "  Building wheel for pyDOE2 (setup.py) ... \u001b[?25l\u001b[?25hdone\n",
            "  Created wheel for pyDOE2: filename=pyDOE2-1.3.0-cp37-none-any.whl size=25519 sha256=988aacc17533e4dbd0f96773418db68da6440f8bb4571608d0c646832ca23d7d\n",
            "  Stored in directory: /root/.cache/pip/wheels/60/88/1d/b334ee00dd83e82d111ec56c3be91573d335c93870698037f1\n",
            "Successfully built pyDOE2\n",
            "Installing collected packages: pyDOE2, pyfiglet, tensordiffeq\n",
            "Successfully installed pyDOE2-1.3.0 pyfiglet-0.8.post1 tensordiffeq-0.1.8\n"
          ],
          "name": "stdout"
        }
      ]
    },
    {
      "cell_type": "markdown",
      "metadata": {
        "id": "GuAX6VZatmAN"
      },
      "source": [
        "First, necessary imports. Then we define the domain - a simple 1D w/time domain, and generate collocation points in that domain,"
      ]
    },
    {
      "cell_type": "code",
      "metadata": {
        "id": "oGvQfBXn58B6"
      },
      "source": [
        "import math\n",
        "import scipy.io\n",
        "import tensordiffeq as tdq\n",
        "from tensordiffeq.boundaries import *\n",
        "from tensordiffeq.models import CollocationSolverND\n",
        "\n",
        "Domain = DomainND([\"x\", \"t\"], time_var='t')\n",
        "\n",
        "Domain.add(\"x\", [-1.0, 1.0], 512)\n",
        "Domain.add(\"t\", [0.0, 1.0], 201)\n",
        "\n",
        "N_f = 10000\n",
        "Domain.generate_collocation_points(N_f)"
      ],
      "execution_count": 2,
      "outputs": []
    },
    {
      "cell_type": "markdown",
      "metadata": {
        "id": "iDJDvXsJtxWX"
      },
      "source": [
        "Next, we define the IC function, the derivative model which is implemented at the boundaries of the periodic BC (i.e. first order, second order, etc). Then we define the IC/BC classes and stack them into a list to feed into the solver."
      ]
    },
    {
      "cell_type": "code",
      "metadata": {
        "id": "Sbi0WnKls1_V"
      },
      "source": [
        "def func_ic(x):\n",
        "    return x ** 2 * np.cos(math.pi * x)\n",
        "\n",
        "\n",
        "# Conditions to be considered at the boundaries for the periodic BC\n",
        "def deriv_model(u_model, x, t):\n",
        "    u = u_model(tf.concat([x, t], 1))\n",
        "    u_x = tf.gradients(u, x)[0]\n",
        "    return u, u_x\n",
        "\n",
        "\n",
        "init = IC(Domain, [func_ic], var=[['x']])\n",
        "x_periodic = periodicBC(Domain, ['x'], [deriv_model])\n",
        "\n",
        "BCs = [init, x_periodic]"
      ],
      "execution_count": 3,
      "outputs": []
    },
    {
      "cell_type": "markdown",
      "metadata": {
        "id": "A8MaDliWuNLD"
      },
      "source": [
        "Now we define our strong-form PDE using the tf.gradients syntax"
      ]
    },
    {
      "cell_type": "code",
      "metadata": {
        "id": "pkuYZ9G_s828"
      },
      "source": [
        "def f_model(u_model, x, t):\n",
        "    u = u_model(tf.concat([x, t], 1))\n",
        "    u_x = tf.gradients(u, x)\n",
        "    u_xx = tf.gradients(u_x, x)\n",
        "    u_t = tf.gradients(u, t)\n",
        "    c1 = tdq.utils.constant(.0001)\n",
        "    c2 = tdq.utils.constant(5.0)\n",
        "    f_u = u_t - c1 * u_xx + c2 * u * u * u - c2 * u\n",
        "    return f_u"
      ],
      "execution_count": 4,
      "outputs": []
    },
    {
      "cell_type": "markdown",
      "metadata": {
        "id": "0H-_FrAluV10"
      },
      "source": [
        "In order to implement the self-adaptive solvers we must define tf.Variable vectors of length corresponding to the number of points in the domain, in this case N_f is the number of collocation points and 512 is the number of initial boundary points (from the Domain cell)"
      ]
    },
    {
      "cell_type": "code",
      "metadata": {
        "id": "TfaEPnVHs__L"
      },
      "source": [
        "col_weights = tf.Variable(tf.random.uniform([N_f, 1]), trainable=True, dtype=tf.float32)\n",
        "u_weights = tf.Variable(100 * tf.random.uniform([512, 1]), trainable=True, dtype=tf.float32)"
      ],
      "execution_count": 5,
      "outputs": []
    },
    {
      "cell_type": "markdown",
      "metadata": {
        "id": "90BO9ITAut6C"
      },
      "source": [
        "Define the network layer sizes"
      ]
    },
    {
      "cell_type": "code",
      "metadata": {
        "colab": {
          "base_uri": "https://localhost:8080/"
        },
        "id": "djqEMcX-_CUq",
        "outputId": "3a981328-71a7-49cb-974d-cd7135cb42cd"
      },
      "source": [
        "layer_sizes = [2] \n",
        "layer_sizes.extend([128]*4)\n",
        "layer_sizes.extend([1])\n",
        "print(layer_sizes)"
      ],
      "execution_count": 6,
      "outputs": [
        {
          "output_type": "stream",
          "text": [
            "[2, 128, 128, 128, 128, 1]\n"
          ],
          "name": "stdout"
        }
      ]
    },
    {
      "cell_type": "markdown",
      "metadata": {
        "id": "N7M68XuWu1lX"
      },
      "source": [
        "Initialize the collocation model and solve using the SA-PINN"
      ]
    },
    {
      "cell_type": "code",
      "metadata": {
        "colab": {
          "base_uri": "https://localhost:8080/",
          "height": 642,
          "referenced_widgets": [
            "25728485533a44d580be4503dcdcb147",
            "8117df14331b41cb8b023675d6ccd70e",
            "121e16ea1fab4b8ba7a1a41de817ec0f",
            "70008091e4444776a4add4c520ae8936",
            "5f8f73c6e455489da7ecbd7306a47bf0",
            "719bb2794a6940cfaa0d562365e1b683",
            "7f88fa371162428c813d1864e600d4a5",
            "255b663b1d4b4e728bc33fe24f5073b6",
            "74ee5d6a5d084cd0988e678a7f754fa9",
            "bf753eef8d094eb6af76e738476f5e13",
            "7a2c5fd953ab4bd6adae87fd5b14e147",
            "c164931b5d854bed80e30ead00383687",
            "5d9e14e89d8b46a3826fb5215860bb37",
            "fa0222dcf784458fb394d091d8ab8991",
            "732c44b16dbc4c24a1d7311b78a60072",
            "3bcf497c7624493c8b80bc689fefe111"
          ]
        },
        "id": "HOvWWg00sdUF",
        "outputId": "40f67aca-fa19-4d4e-8f9e-acb1184a87b9"
      },
      "source": [
        "model = CollocationSolverND()\n",
        "model.compile(layer_sizes, f_model, Domain, BCs, isAdaptive=True, col_weights=col_weights, u_weights=u_weights)\n",
        "model.fit(tf_iter=10000, newton_iter=1000)"
      ],
      "execution_count": 8,
      "outputs": [
        {
          "output_type": "stream",
          "text": [
            "  ______                           ____  _ ______________     \n",
            " /_  __/__  ____  _________  _____/ __ \\(_) __/ __/ ____/___ _\n",
            "  / / / _ \\/ __ \\/ ___/ __ \\/ ___/ / / / / /_/ /_/ __/ / __ `/\n",
            " / / /  __/ / / (__  ) /_/ / /  / /_/ / / __/ __/ /___/ /_/ / \n",
            "/_/  \\___/_/ /_/____/\\____/_/  /_____/_/_/ /_/ /_____/\\__, /  \n",
            "                                                        /_/   \n",
            "\n",
            "Neural Network Model Summary\n",
            "\n",
            "Model: \"sequential_1\"\n",
            "_________________________________________________________________\n",
            "Layer (type)                 Output Shape              Param #   \n",
            "=================================================================\n",
            "dense_5 (Dense)              (None, 128)               384       \n",
            "_________________________________________________________________\n",
            "dense_6 (Dense)              (None, 128)               16512     \n",
            "_________________________________________________________________\n",
            "dense_7 (Dense)              (None, 128)               16512     \n",
            "_________________________________________________________________\n",
            "dense_8 (Dense)              (None, 128)               16512     \n",
            "_________________________________________________________________\n",
            "dense_9 (Dense)              (None, 1)                 129       \n",
            "=================================================================\n",
            "Total params: 50,049\n",
            "Trainable params: 50,049\n",
            "Non-trainable params: 0\n",
            "_________________________________________________________________\n",
            "None\n",
            "starting Adam training\n"
          ],
          "name": "stdout"
        },
        {
          "output_type": "display_data",
          "data": {
            "application/vnd.jupyter.widget-view+json": {
              "model_id": "25728485533a44d580be4503dcdcb147",
              "version_minor": 0,
              "version_major": 2
            },
            "text/plain": [
              "HBox(children=(FloatProgress(value=0.0, max=10000.0), HTML(value='')))"
            ]
          },
          "metadata": {
            "tags": []
          }
        },
        {
          "output_type": "stream",
          "text": [
            "\n",
            "Starting L-BFGS training\n",
            "Executing eager-mode L-BFGS\n"
          ],
          "name": "stdout"
        },
        {
          "output_type": "display_data",
          "data": {
            "application/vnd.jupyter.widget-view+json": {
              "model_id": "74ee5d6a5d084cd0988e678a7f754fa9",
              "version_minor": 0,
              "version_major": 2
            },
            "text/plain": [
              "HBox(children=(FloatProgress(value=0.0, max=1000.0), HTML(value='')))"
            ]
          },
          "metadata": {
            "tags": []
          }
        },
        {
          "output_type": "stream",
          "text": [
            "\n"
          ],
          "name": "stdout"
        }
      ]
    },
    {
      "cell_type": "markdown",
      "metadata": {
        "id": "dO2azQ7hscqP"
      },
      "source": [
        ""
      ]
    },
    {
      "cell_type": "code",
      "metadata": {
        "id": "eZG_8gJK_8Vj",
        "colab": {
          "base_uri": "https://localhost:8080/"
        },
        "outputId": "90cf7a63-ad8e-476c-b21f-0ab395830cea"
      },
      "source": [
        "# Get AC data from repo, requires the ?raw=true so wget doesnt download the webpage instead of the data!\n",
        "!wget --no-check-certificate https://github.com/tensordiffeq/TensorDiffEq/blob/main/examples/AC.mat?raw=true \\\n",
        "    -O AC.mat"
      ],
      "execution_count": 9,
      "outputs": [
        {
          "output_type": "stream",
          "text": [
            "--2021-05-06 04:05:56--  https://github.com/tensordiffeq/TensorDiffEq/blob/main/examples/AC.mat?raw=true\n",
            "Resolving github.com (github.com)... 140.82.114.4\n",
            "Connecting to github.com (github.com)|140.82.114.4|:443... connected.\n",
            "HTTP request sent, awaiting response... 302 Found\n",
            "Location: https://github.com/tensordiffeq/TensorDiffEq/raw/main/examples/AC.mat [following]\n",
            "--2021-05-06 04:05:56--  https://github.com/tensordiffeq/TensorDiffEq/raw/main/examples/AC.mat\n",
            "Reusing existing connection to github.com:443.\n",
            "HTTP request sent, awaiting response... 302 Found\n",
            "Location: https://raw.githubusercontent.com/tensordiffeq/TensorDiffEq/main/examples/AC.mat [following]\n",
            "--2021-05-06 04:05:56--  https://raw.githubusercontent.com/tensordiffeq/TensorDiffEq/main/examples/AC.mat\n",
            "Resolving raw.githubusercontent.com (raw.githubusercontent.com)... 185.199.108.133, 185.199.109.133, 185.199.110.133, ...\n",
            "Connecting to raw.githubusercontent.com (raw.githubusercontent.com)|185.199.108.133|:443... connected.\n",
            "HTTP request sent, awaiting response... 200 OK\n",
            "Length: 559196 (546K) [application/octet-stream]\n",
            "Saving to: ‘AC.mat’\n",
            "\n",
            "AC.mat              100%[===================>] 546.09K  --.-KB/s    in 0.01s   \n",
            "\n",
            "2021-05-06 04:05:56 (38.7 MB/s) - ‘AC.mat’ saved [559196/559196]\n",
            "\n"
          ],
          "name": "stdout"
        }
      ]
    },
    {
      "cell_type": "code",
      "metadata": {
        "colab": {
          "base_uri": "https://localhost:8080/",
          "height": 389
        },
        "id": "j6PoDGZM58LI",
        "outputId": "b634ff70-9898-4bfc-e000-a4af0ca61bc2"
      },
      "source": [
        "\n",
        "save_model = model.u_model\n",
        "print(\"training pass 1 completed\")\n",
        "\n",
        "# Load high-fidelity data for error calculation\n",
        "data = scipy.io.loadmat('AC.mat')\n",
        "\n",
        "Exact = data['uu']\n",
        "Exact_u = np.real(Exact)\n",
        "\n",
        "# t = data['tt'].flatten()[:,None]\n",
        "# x = data['x'].flatten()[:,None]\n",
        "\n",
        "x = Domain.domaindict[0]['xlinspace']\n",
        "t = Domain.domaindict[1][\"tlinspace\"]\n",
        "\n",
        "# create mesh for plotting\n",
        "\n",
        "X, T = np.meshgrid(x, t)\n",
        "\n",
        "X_star = np.hstack((X.flatten()[:, None], T.flatten()[:, None]))\n",
        "u_star = Exact_u.T.flatten()[:, None]\n",
        "\n",
        "# forward pass through model\n",
        "u_pred, f_u_pred = model.predict(X_star)\n",
        "\n",
        "error_u = tdq.helpers.find_L2_error(u_pred, u_star)\n",
        "print('Error u: %e' % (error_u))\n",
        "\n",
        "U_pred = tdq.plotting.get_griddata(X_star, u_pred.flatten(), (X, T))\n",
        "FU_pred = tdq.plotting.get_griddata(X_star, f_u_pred.flatten(), (X, T))\n",
        "\n",
        "lb = np.array([-1.0, 0.0])\n",
        "ub = np.array([1.0, 1])\n",
        "\n",
        "tdq.plotting.plot_solution_domain1D(model, [x, t], ub=ub, lb=lb, Exact_u=Exact_u)"
      ],
      "execution_count": 10,
      "outputs": [
        {
          "output_type": "stream",
          "text": [
            "training pass 1 completed\n",
            "Error u: 6.747827e-02\n"
          ],
          "name": "stdout"
        },
        {
          "output_type": "stream",
          "text": [
            "No handles with labels found to put in legend.\n"
          ],
          "name": "stderr"
        },
        {
          "output_type": "display_data",
          "data": {
            "image/png": "[encoded data removed]",
            "text/plain": [
              "<Figure size 505.106x312.173 with 5 Axes>"
            ]
          },
          "metadata": {
            "tags": [],
            "needs_background": "light"
          }
        }
      ]
    },
    {
      "cell_type": "code",
      "metadata": {
        "id": "VK5mubeF6VF4"
      },
      "source": [
        ""
      ],
      "execution_count": null,
      "outputs": []
    }
  ]
}