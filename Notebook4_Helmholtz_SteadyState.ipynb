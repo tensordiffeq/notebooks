{
  "nbformat": 4,
  "nbformat_minor": 0,
  "metadata": {
    "colab": {
      "name": "Notebook4_Helmholtz_SteadyState.ipynb",
      "provenance": [],
      "collapsed_sections": [],
      "toc_visible": true,
      "include_colab_link": true
    },
    "kernelspec": {
      "name": "python3",
      "display_name": "Python 3"
    },
    "accelerator": "GPU",
    "widgets": {
      "application/vnd.jupyter.widget-state+json": {
        "1dd576c6bef8408cb6fb1982ad6b491a": {
          "model_module": "@jupyter-widgets/controls",
          "model_name": "HBoxModel",
          "state": {
            "_view_name": "HBoxView",
            "_dom_classes": [],
            "_model_name": "HBoxModel",
            "_view_module": "@jupyter-widgets/controls",
            "_model_module_version": "1.5.0",
            "_view_count": null,
            "_view_module_version": "1.5.0",
            "box_style": "",
            "layout": "IPY_MODEL_fd64be41ccfc496eb031faa01b14399e",
            "_model_module": "@jupyter-widgets/controls",
            "children": [
              "IPY_MODEL_58118f9baee3490c8253f930d78b46cc",
              "IPY_MODEL_4a4efd6de9d941cab698ce84aa2268b9"
            ]
          }
        },
        "fd64be41ccfc496eb031faa01b14399e": {
          "model_module": "@jupyter-widgets/base",
          "model_name": "LayoutModel",
          "state": {
            "_view_name": "LayoutView",
            "grid_template_rows": null,
            "right": null,
            "justify_content": null,
            "_view_module": "@jupyter-widgets/base",
            "overflow": null,
            "_model_module_version": "1.2.0",
            "_view_count": null,
            "flex_flow": null,
            "width": null,
            "min_width": null,
            "border": null,
            "align_items": null,
            "bottom": null,
            "_model_module": "@jupyter-widgets/base",
            "top": null,
            "grid_column": null,
            "overflow_y": null,
            "overflow_x": null,
            "grid_auto_flow": null,
            "grid_area": null,
            "grid_template_columns": null,
            "flex": null,
            "_model_name": "LayoutModel",
            "justify_items": null,
            "grid_row": null,
            "max_height": null,
            "align_content": null,
            "visibility": null,
            "align_self": null,
            "height": null,
            "min_height": null,
            "padding": null,
            "grid_auto_rows": null,
            "grid_gap": null,
            "max_width": null,
            "order": null,
            "_view_module_version": "1.2.0",
            "grid_template_areas": null,
            "object_position": null,
            "object_fit": null,
            "grid_auto_columns": null,
            "margin": null,
            "display": null,
            "left": null
          }
        },
        "58118f9baee3490c8253f930d78b46cc": {
          "model_module": "@jupyter-widgets/controls",
          "model_name": "FloatProgressModel",
          "state": {
            "_view_name": "ProgressView",
            "style": "IPY_MODEL_266473058bee4611abc0c9e83f42155c",
            "_dom_classes": [],
            "description": "Adam epoch 3000: 100%",
            "_model_name": "FloatProgressModel",
            "bar_style": "success",
            "max": 3000,
            "_view_module": "@jupyter-widgets/controls",
            "_model_module_version": "1.5.0",
            "value": 3000,
            "_view_count": null,
            "_view_module_version": "1.5.0",
            "orientation": "horizontal",
            "min": 0,
            "description_tooltip": null,
            "_model_module": "@jupyter-widgets/controls",
            "layout": "IPY_MODEL_fbcdf473547840b291860d49e5c81be0"
          }
        },
        "4a4efd6de9d941cab698ce84aa2268b9": {
          "model_module": "@jupyter-widgets/controls",
          "model_name": "HTMLModel",
          "state": {
            "_view_name": "HTMLView",
            "style": "IPY_MODEL_4beabd0769cc4c139c1f705262a1a160",
            "_dom_classes": [],
            "description": "",
            "_model_name": "HTMLModel",
            "placeholder": "​",
            "_view_module": "@jupyter-widgets/controls",
            "_model_module_version": "1.5.0",
            "value": " 3000/3000 [01:08&lt;00:00, 43.57it/s, loss=1.18]",
            "_view_count": null,
            "_view_module_version": "1.5.0",
            "description_tooltip": null,
            "_model_module": "@jupyter-widgets/controls",
            "layout": "IPY_MODEL_657927c5de97405ab41b1e1330958410"
          }
        },
        "266473058bee4611abc0c9e83f42155c": {
          "model_module": "@jupyter-widgets/controls",
          "model_name": "ProgressStyleModel",
          "state": {
            "_view_name": "StyleView",
            "_model_name": "ProgressStyleModel",
            "description_width": "initial",
            "_view_module": "@jupyter-widgets/base",
            "_model_module_version": "1.5.0",
            "_view_count": null,
            "_view_module_version": "1.2.0",
            "bar_color": null,
            "_model_module": "@jupyter-widgets/controls"
          }
        },
        "fbcdf473547840b291860d49e5c81be0": {
          "model_module": "@jupyter-widgets/base",
          "model_name": "LayoutModel",
          "state": {
            "_view_name": "LayoutView",
            "grid_template_rows": null,
            "right": null,
            "justify_content": null,
            "_view_module": "@jupyter-widgets/base",
            "overflow": null,
            "_model_module_version": "1.2.0",
            "_view_count": null,
            "flex_flow": null,
            "width": null,
            "min_width": null,
            "border": null,
            "align_items": null,
            "bottom": null,
            "_model_module": "@jupyter-widgets/base",
            "top": null,
            "grid_column": null,
            "overflow_y": null,
            "overflow_x": null,
            "grid_auto_flow": null,
            "grid_area": null,
            "grid_template_columns": null,
            "flex": null,
            "_model_name": "LayoutModel",
            "justify_items": null,
            "grid_row": null,
            "max_height": null,
            "align_content": null,
            "visibility": null,
            "align_self": null,
            "height": null,
            "min_height": null,
            "padding": null,
            "grid_auto_rows": null,
            "grid_gap": null,
            "max_width": null,
            "order": null,
            "_view_module_version": "1.2.0",
            "grid_template_areas": null,
            "object_position": null,
            "object_fit": null,
            "grid_auto_columns": null,
            "margin": null,
            "display": null,
            "left": null
          }
        },
        "4beabd0769cc4c139c1f705262a1a160": {
          "model_module": "@jupyter-widgets/controls",
          "model_name": "DescriptionStyleModel",
          "state": {
            "_view_name": "StyleView",
            "_model_name": "DescriptionStyleModel",
            "description_width": "",
            "_view_module": "@jupyter-widgets/base",
            "_model_module_version": "1.5.0",
            "_view_count": null,
            "_view_module_version": "1.2.0",
            "_model_module": "@jupyter-widgets/controls"
          }
        },
        "657927c5de97405ab41b1e1330958410": {
          "model_module": "@jupyter-widgets/base",
          "model_name": "LayoutModel",
          "state": {
            "_view_name": "LayoutView",
            "grid_template_rows": null,
            "right": null,
            "justify_content": null,
            "_view_module": "@jupyter-widgets/base",
            "overflow": null,
            "_model_module_version": "1.2.0",
            "_view_count": null,
            "flex_flow": null,
            "width": null,
            "min_width": null,
            "border": null,
            "align_items": null,
            "bottom": null,
            "_model_module": "@jupyter-widgets/base",
            "top": null,
            "grid_column": null,
            "overflow_y": null,
            "overflow_x": null,
            "grid_auto_flow": null,
            "grid_area": null,
            "grid_template_columns": null,
            "flex": null,
            "_model_name": "LayoutModel",
            "justify_items": null,
            "grid_row": null,
            "max_height": null,
            "align_content": null,
            "visibility": null,
            "align_self": null,
            "height": null,
            "min_height": null,
            "padding": null,
            "grid_auto_rows": null,
            "grid_gap": null,
            "max_width": null,
            "order": null,
            "_view_module_version": "1.2.0",
            "grid_template_areas": null,
            "object_position": null,
            "object_fit": null,
            "grid_auto_columns": null,
            "margin": null,
            "display": null,
            "left": null
          }
        },
        "b2ea81a4cc21499cadf1cd5914b08706": {
          "model_module": "@jupyter-widgets/controls",
          "model_name": "HBoxModel",
          "state": {
            "_view_name": "HBoxView",
            "_dom_classes": [],
            "_model_name": "HBoxModel",
            "_view_module": "@jupyter-widgets/controls",
            "_model_module_version": "1.5.0",
            "_view_count": null,
            "_view_module_version": "1.5.0",
            "box_style": "",
            "layout": "IPY_MODEL_fdbebe561ff54638a0c34ea203dcee8b",
            "_model_module": "@jupyter-widgets/controls",
            "children": [
              "IPY_MODEL_f3852509ec34482aa4e8eeb54f239c57",
              "IPY_MODEL_f56e57c871484d6d8256648574581a6b"
            ]
          }
        },
        "fdbebe561ff54638a0c34ea203dcee8b": {
          "model_module": "@jupyter-widgets/base",
          "model_name": "LayoutModel",
          "state": {
            "_view_name": "LayoutView",
            "grid_template_rows": null,
            "right": null,
            "justify_content": null,
            "_view_module": "@jupyter-widgets/base",
            "overflow": null,
            "_model_module_version": "1.2.0",
            "_view_count": null,
            "flex_flow": null,
            "width": null,
            "min_width": null,
            "border": null,
            "align_items": null,
            "bottom": null,
            "_model_module": "@jupyter-widgets/base",
            "top": null,
            "grid_column": null,
            "overflow_y": null,
            "overflow_x": null,
            "grid_auto_flow": null,
            "grid_area": null,
            "grid_template_columns": null,
            "flex": null,
            "_model_name": "LayoutModel",
            "justify_items": null,
            "grid_row": null,
            "max_height": null,
            "align_content": null,
            "visibility": null,
            "align_self": null,
            "height": null,
            "min_height": null,
            "padding": null,
            "grid_auto_rows": null,
            "grid_gap": null,
            "max_width": null,
            "order": null,
            "_view_module_version": "1.2.0",
            "grid_template_areas": null,
            "object_position": null,
            "object_fit": null,
            "grid_auto_columns": null,
            "margin": null,
            "display": null,
            "left": null
          }
        },
        "f3852509ec34482aa4e8eeb54f239c57": {
          "model_module": "@jupyter-widgets/controls",
          "model_name": "FloatProgressModel",
          "state": {
            "_view_name": "ProgressView",
            "style": "IPY_MODEL_ee3f908c33c94336bb8deb9e20de9a2f",
            "_dom_classes": [],
            "description": "L-BFGS epoch 3000: 100%",
            "_model_name": "FloatProgressModel",
            "bar_style": "danger",
            "max": 3000,
            "_view_module": "@jupyter-widgets/controls",
            "_model_module_version": "1.5.0",
            "value": 2999,
            "_view_count": null,
            "_view_module_version": "1.5.0",
            "orientation": "horizontal",
            "min": 0,
            "description_tooltip": null,
            "_model_module": "@jupyter-widgets/controls",
            "layout": "IPY_MODEL_ccf6fd4811cd4a449ab6d9db132b66f3"
          }
        },
        "f56e57c871484d6d8256648574581a6b": {
          "model_module": "@jupyter-widgets/controls",
          "model_name": "HTMLModel",
          "state": {
            "_view_name": "HTMLView",
            "style": "IPY_MODEL_c3c8eb766aca418a90c2e44fa65cbc24",
            "_dom_classes": [],
            "description": "",
            "_model_name": "HTMLModel",
            "placeholder": "​",
            "_view_module": "@jupyter-widgets/controls",
            "_model_module_version": "1.5.0",
            "value": " 2999/3000 [05:10&lt;00:00,  9.65it/s, loss=0.0203]",
            "_view_count": null,
            "_view_module_version": "1.5.0",
            "description_tooltip": null,
            "_model_module": "@jupyter-widgets/controls",
            "layout": "IPY_MODEL_fa99b8ac5d154941a7d51dea21cdc042"
          }
        },
        "ee3f908c33c94336bb8deb9e20de9a2f": {
          "model_module": "@jupyter-widgets/controls",
          "model_name": "ProgressStyleModel",
          "state": {
            "_view_name": "StyleView",
            "_model_name": "ProgressStyleModel",
            "description_width": "initial",
            "_view_module": "@jupyter-widgets/base",
            "_model_module_version": "1.5.0",
            "_view_count": null,
            "_view_module_version": "1.2.0",
            "bar_color": null,
            "_model_module": "@jupyter-widgets/controls"
          }
        },
        "ccf6fd4811cd4a449ab6d9db132b66f3": {
          "model_module": "@jupyter-widgets/base",
          "model_name": "LayoutModel",
          "state": {
            "_view_name": "LayoutView",
            "grid_template_rows": null,
            "right": null,
            "justify_content": null,
            "_view_module": "@jupyter-widgets/base",
            "overflow": null,
            "_model_module_version": "1.2.0",
            "_view_count": null,
            "flex_flow": null,
            "width": null,
            "min_width": null,
            "border": null,
            "align_items": null,
            "bottom": null,
            "_model_module": "@jupyter-widgets/base",
            "top": null,
            "grid_column": null,
            "overflow_y": null,
            "overflow_x": null,
            "grid_auto_flow": null,
            "grid_area": null,
            "grid_template_columns": null,
            "flex": null,
            "_model_name": "LayoutModel",
            "justify_items": null,
            "grid_row": null,
            "max_height": null,
            "align_content": null,
            "visibility": null,
            "align_self": null,
            "height": null,
            "min_height": null,
            "padding": null,
            "grid_auto_rows": null,
            "grid_gap": null,
            "max_width": null,
            "order": null,
            "_view_module_version": "1.2.0",
            "grid_template_areas": null,
            "object_position": null,
            "object_fit": null,
            "grid_auto_columns": null,
            "margin": null,
            "display": null,
            "left": null
          }
        },
        "c3c8eb766aca418a90c2e44fa65cbc24": {
          "model_module": "@jupyter-widgets/controls",
          "model_name": "DescriptionStyleModel",
          "state": {
            "_view_name": "StyleView",
            "_model_name": "DescriptionStyleModel",
            "description_width": "",
            "_view_module": "@jupyter-widgets/base",
            "_model_module_version": "1.5.0",
            "_view_count": null,
            "_view_module_version": "1.2.0",
            "_model_module": "@jupyter-widgets/controls"
          }
        },
        "fa99b8ac5d154941a7d51dea21cdc042": {
          "model_module": "@jupyter-widgets/base",
          "model_name": "LayoutModel",
          "state": {
            "_view_name": "LayoutView",
            "grid_template_rows": null,
            "right": null,
            "justify_content": null,
            "_view_module": "@jupyter-widgets/base",
            "overflow": null,
            "_model_module_version": "1.2.0",
            "_view_count": null,
            "flex_flow": null,
            "width": null,
            "min_width": null,
            "border": null,
            "align_items": null,
            "bottom": null,
            "_model_module": "@jupyter-widgets/base",
            "top": null,
            "grid_column": null,
            "overflow_y": null,
            "overflow_x": null,
            "grid_auto_flow": null,
            "grid_area": null,
            "grid_template_columns": null,
            "flex": null,
            "_model_name": "LayoutModel",
            "justify_items": null,
            "grid_row": null,
            "max_height": null,
            "align_content": null,
            "visibility": null,
            "align_self": null,
            "height": null,
            "min_height": null,
            "padding": null,
            "grid_auto_rows": null,
            "grid_gap": null,
            "max_width": null,
            "order": null,
            "_view_module_version": "1.2.0",
            "grid_template_areas": null,
            "object_position": null,
            "object_fit": null,
            "grid_auto_columns": null,
            "margin": null,
            "display": null,
            "left": null
          }
        }
      }
    }
  },
  "cells": [
    {
      "cell_type": "markdown",
      "metadata": {
        "id": "view-in-github",
        "colab_type": "text"
      },
      "source": [
        "<a href=\"https://colab.research.google.com/github/levimcclenny/notebooks/blob/main/Notebook4_Helmholtz_SteadyState.ipynb\" target=\"_parent\"><img src=\"https://colab.research.google.com/assets/colab-badge.svg\" alt=\"Open In Colab\"/></a>"
      ]
    },
    {
      "cell_type": "markdown",
      "metadata": {
        "id": "_cUMos8l9QgU"
      },
      "source": [
        "# TensorDiffEq for Helmholtz\n",
        "\n",
        "\n",
        "$ u_{xx} + u_{yy} + k^2u - q(x,y) = 0  $ \\\\\n",
        "\\\n",
        "$ u(-1,y) = u(1,y) = u(x,-1) = u(x,1) = 0 $ \\\\\n",
        "\\\n",
        "where $x \\in [-1,1], y \\in [-1,1]$ and \\\\\n",
        "\\\n",
        "$ q(x,y) = -\\  (a_1\\pi)^2\\sin(a_1\\pi x)\\sin(a_2\\pi y) - \\ (a_2\\pi)^2\\sin(a_1\\pi x)\\sin(a_2\\pi y) + \\ k^2\\sin(a_1\\pi x)\\sin(a_2\\pi y)  $ \\\\\n",
        "\\\n",
        "is a forcing term that results in a closed-form analytical solution \\\\\n",
        "\\\n",
        "\\begin{equation}\n",
        "    u(x,y) = \\sin(a_1\\pi x)\\sin(a_2\\pi y)\\,.\n",
        "\\end{equation}"
      ]
    },
    {
      "cell_type": "markdown",
      "metadata": {
        "id": "x51g8Y3s9WY_"
      },
      "source": [
        "## pip install tensordiffeq"
      ]
    },
    {
      "cell_type": "code",
      "metadata": {
        "id": "xStuZ85R8vpI",
        "colab": {
          "base_uri": "https://localhost:8080/"
        },
        "outputId": "2b22517c-f246-459c-d36e-c8f3797f37c4"
      },
      "source": [
        "!pip install tensordiffeq"
      ],
      "execution_count": 1,
      "outputs": [
        {
          "output_type": "stream",
          "text": [
            "Collecting tensordiffeq\n",
            "  Downloading https://files.pythonhosted.org/packages/cf/12/c679df996fef3098f379637b1348a8400b23c4894021491fe22feb563154/tensordiffeq-0.1.9-py3-none-any.whl\n",
            "Collecting pyDOE2\n",
            "  Downloading https://files.pythonhosted.org/packages/70/1f/8a2e1b57f6dd22cd2002e4332e229e87a3858d560c516b50ab7fe5bb075c/pyDOE2-1.3.0.tar.gz\n",
            "Requirement already satisfied: tqdm in /usr/local/lib/python3.7/dist-packages (from tensordiffeq) (4.41.1)\n",
            "Requirement already satisfied: scipy in /usr/local/lib/python3.7/dist-packages (from tensordiffeq) (1.4.1)\n",
            "Requirement already satisfied: tensorflow-probability in /usr/local/lib/python3.7/dist-packages (from tensordiffeq) (0.12.1)\n",
            "Requirement already satisfied: matplotlib in /usr/local/lib/python3.7/dist-packages (from tensordiffeq) (3.2.2)\n",
            "Requirement already satisfied: tensorflow in /usr/local/lib/python3.7/dist-packages (from tensordiffeq) (2.4.1)\n",
            "Collecting pyfiglet\n",
            "\u001b[?25l  Downloading https://files.pythonhosted.org/packages/33/07/fcfdd7a2872f5b348953de35acce1544dab0c1e8368dca54279b1cde5c15/pyfiglet-0.8.post1-py2.py3-none-any.whl (865kB)\n",
            "\u001b[K     |████████████████████████████████| 870kB 6.5MB/s \n",
            "\u001b[?25hRequirement already satisfied: numpy in /usr/local/lib/python3.7/dist-packages (from tensordiffeq) (1.19.5)\n",
            "Requirement already satisfied: cloudpickle>=1.3 in /usr/local/lib/python3.7/dist-packages (from tensorflow-probability->tensordiffeq) (1.3.0)\n",
            "Requirement already satisfied: six>=1.10.0 in /usr/local/lib/python3.7/dist-packages (from tensorflow-probability->tensordiffeq) (1.15.0)\n",
            "Requirement already satisfied: gast>=0.3.2 in /usr/local/lib/python3.7/dist-packages (from tensorflow-probability->tensordiffeq) (0.3.3)\n",
            "Requirement already satisfied: decorator in /usr/local/lib/python3.7/dist-packages (from tensorflow-probability->tensordiffeq) (4.4.2)\n",
            "Requirement already satisfied: dm-tree in /usr/local/lib/python3.7/dist-packages (from tensorflow-probability->tensordiffeq) (0.1.6)\n",
            "Requirement already satisfied: kiwisolver>=1.0.1 in /usr/local/lib/python3.7/dist-packages (from matplotlib->tensordiffeq) (1.3.1)\n",
            "Requirement already satisfied: cycler>=0.10 in /usr/local/lib/python3.7/dist-packages (from matplotlib->tensordiffeq) (0.10.0)\n",
            "Requirement already satisfied: python-dateutil>=2.1 in /usr/local/lib/python3.7/dist-packages (from matplotlib->tensordiffeq) (2.8.1)\n",
            "Requirement already satisfied: pyparsing!=2.0.4,!=2.1.2,!=2.1.6,>=2.0.1 in /usr/local/lib/python3.7/dist-packages (from matplotlib->tensordiffeq) (2.4.7)\n",
            "Requirement already satisfied: google-pasta~=0.2 in /usr/local/lib/python3.7/dist-packages (from tensorflow->tensordiffeq) (0.2.0)\n",
            "Requirement already satisfied: absl-py~=0.10 in /usr/local/lib/python3.7/dist-packages (from tensorflow->tensordiffeq) (0.12.0)\n",
            "Requirement already satisfied: flatbuffers~=1.12.0 in /usr/local/lib/python3.7/dist-packages (from tensorflow->tensordiffeq) (1.12)\n",
            "Requirement already satisfied: wheel~=0.35 in /usr/local/lib/python3.7/dist-packages (from tensorflow->tensordiffeq) (0.36.2)\n",
            "Requirement already satisfied: opt-einsum~=3.3.0 in /usr/local/lib/python3.7/dist-packages (from tensorflow->tensordiffeq) (3.3.0)\n",
            "Requirement already satisfied: typing-extensions~=3.7.4 in /usr/local/lib/python3.7/dist-packages (from tensorflow->tensordiffeq) (3.7.4.3)\n",
            "Requirement already satisfied: protobuf>=3.9.2 in /usr/local/lib/python3.7/dist-packages (from tensorflow->tensordiffeq) (3.12.4)\n",
            "Requirement already satisfied: grpcio~=1.32.0 in /usr/local/lib/python3.7/dist-packages (from tensorflow->tensordiffeq) (1.32.0)\n",
            "Requirement already satisfied: h5py~=2.10.0 in /usr/local/lib/python3.7/dist-packages (from tensorflow->tensordiffeq) (2.10.0)\n",
            "Requirement already satisfied: astunparse~=1.6.3 in /usr/local/lib/python3.7/dist-packages (from tensorflow->tensordiffeq) (1.6.3)\n",
            "Requirement already satisfied: tensorflow-estimator<2.5.0,>=2.4.0 in /usr/local/lib/python3.7/dist-packages (from tensorflow->tensordiffeq) (2.4.0)\n",
            "Requirement already satisfied: tensorboard~=2.4 in /usr/local/lib/python3.7/dist-packages (from tensorflow->tensordiffeq) (2.4.1)\n",
            "Requirement already satisfied: termcolor~=1.1.0 in /usr/local/lib/python3.7/dist-packages (from tensorflow->tensordiffeq) (1.1.0)\n",
            "Requirement already satisfied: keras-preprocessing~=1.1.2 in /usr/local/lib/python3.7/dist-packages (from tensorflow->tensordiffeq) (1.1.2)\n",
            "Requirement already satisfied: wrapt~=1.12.1 in /usr/local/lib/python3.7/dist-packages (from tensorflow->tensordiffeq) (1.12.1)\n",
            "Requirement already satisfied: setuptools in /usr/local/lib/python3.7/dist-packages (from protobuf>=3.9.2->tensorflow->tensordiffeq) (56.1.0)\n",
            "Requirement already satisfied: google-auth-oauthlib<0.5,>=0.4.1 in /usr/local/lib/python3.7/dist-packages (from tensorboard~=2.4->tensorflow->tensordiffeq) (0.4.4)\n",
            "Requirement already satisfied: requests<3,>=2.21.0 in /usr/local/lib/python3.7/dist-packages (from tensorboard~=2.4->tensorflow->tensordiffeq) (2.23.0)\n",
            "Requirement already satisfied: google-auth<2,>=1.6.3 in /usr/local/lib/python3.7/dist-packages (from tensorboard~=2.4->tensorflow->tensordiffeq) (1.28.1)\n",
            "Requirement already satisfied: tensorboard-plugin-wit>=1.6.0 in /usr/local/lib/python3.7/dist-packages (from tensorboard~=2.4->tensorflow->tensordiffeq) (1.8.0)\n",
            "Requirement already satisfied: werkzeug>=0.11.15 in /usr/local/lib/python3.7/dist-packages (from tensorboard~=2.4->tensorflow->tensordiffeq) (1.0.1)\n",
            "Requirement already satisfied: markdown>=2.6.8 in /usr/local/lib/python3.7/dist-packages (from tensorboard~=2.4->tensorflow->tensordiffeq) (3.3.4)\n",
            "Requirement already satisfied: requests-oauthlib>=0.7.0 in /usr/local/lib/python3.7/dist-packages (from google-auth-oauthlib<0.5,>=0.4.1->tensorboard~=2.4->tensorflow->tensordiffeq) (1.3.0)\n",
            "Requirement already satisfied: idna<3,>=2.5 in /usr/local/lib/python3.7/dist-packages (from requests<3,>=2.21.0->tensorboard~=2.4->tensorflow->tensordiffeq) (2.10)\n",
            "Requirement already satisfied: chardet<4,>=3.0.2 in /usr/local/lib/python3.7/dist-packages (from requests<3,>=2.21.0->tensorboard~=2.4->tensorflow->tensordiffeq) (3.0.4)\n",
            "Requirement already satisfied: certifi>=2017.4.17 in /usr/local/lib/python3.7/dist-packages (from requests<3,>=2.21.0->tensorboard~=2.4->tensorflow->tensordiffeq) (2020.12.5)\n",
            "Requirement already satisfied: urllib3!=1.25.0,!=1.25.1,<1.26,>=1.21.1 in /usr/local/lib/python3.7/dist-packages (from requests<3,>=2.21.0->tensorboard~=2.4->tensorflow->tensordiffeq) (1.24.3)\n",
            "Requirement already satisfied: pyasn1-modules>=0.2.1 in /usr/local/lib/python3.7/dist-packages (from google-auth<2,>=1.6.3->tensorboard~=2.4->tensorflow->tensordiffeq) (0.2.8)\n",
            "Requirement already satisfied: rsa<5,>=3.1.4; python_version >= \"3.6\" in /usr/local/lib/python3.7/dist-packages (from google-auth<2,>=1.6.3->tensorboard~=2.4->tensorflow->tensordiffeq) (4.7.2)\n",
            "Requirement already satisfied: cachetools<5.0,>=2.0.0 in /usr/local/lib/python3.7/dist-packages (from google-auth<2,>=1.6.3->tensorboard~=2.4->tensorflow->tensordiffeq) (4.2.1)\n",
            "Requirement already satisfied: importlib-metadata; python_version < \"3.8\" in /usr/local/lib/python3.7/dist-packages (from markdown>=2.6.8->tensorboard~=2.4->tensorflow->tensordiffeq) (3.10.1)\n",
            "Requirement already satisfied: oauthlib>=3.0.0 in /usr/local/lib/python3.7/dist-packages (from requests-oauthlib>=0.7.0->google-auth-oauthlib<0.5,>=0.4.1->tensorboard~=2.4->tensorflow->tensordiffeq) (3.1.0)\n",
            "Requirement already satisfied: pyasn1<0.5.0,>=0.4.6 in /usr/local/lib/python3.7/dist-packages (from pyasn1-modules>=0.2.1->google-auth<2,>=1.6.3->tensorboard~=2.4->tensorflow->tensordiffeq) (0.4.8)\n",
            "Requirement already satisfied: zipp>=0.5 in /usr/local/lib/python3.7/dist-packages (from importlib-metadata; python_version < \"3.8\"->markdown>=2.6.8->tensorboard~=2.4->tensorflow->tensordiffeq) (3.4.1)\n",
            "Building wheels for collected packages: pyDOE2\n",
            "  Building wheel for pyDOE2 (setup.py) ... \u001b[?25l\u001b[?25hdone\n",
            "  Created wheel for pyDOE2: filename=pyDOE2-1.3.0-cp37-none-any.whl size=25519 sha256=3ad6dca71aaa2ec7e9bfa3db1328a96c8f95ffbf79a135c5edd27f2598a7bda8\n",
            "  Stored in directory: /root/.cache/pip/wheels/60/88/1d/b334ee00dd83e82d111ec56c3be91573d335c93870698037f1\n",
            "Successfully built pyDOE2\n",
            "Installing collected packages: pyDOE2, pyfiglet, tensordiffeq\n",
            "Successfully installed pyDOE2-1.3.0 pyfiglet-0.8.post1 tensordiffeq-0.1.9\n"
          ],
          "name": "stdout"
        }
      ]
    },
    {
      "cell_type": "code",
      "metadata": {
        "colab": {
          "base_uri": "https://localhost:8080/",
          "height": 642,
          "referenced_widgets": [
            "1dd576c6bef8408cb6fb1982ad6b491a",
            "fd64be41ccfc496eb031faa01b14399e",
            "58118f9baee3490c8253f930d78b46cc",
            "4a4efd6de9d941cab698ce84aa2268b9",
            "266473058bee4611abc0c9e83f42155c",
            "fbcdf473547840b291860d49e5c81be0",
            "4beabd0769cc4c139c1f705262a1a160",
            "657927c5de97405ab41b1e1330958410",
            "b2ea81a4cc21499cadf1cd5914b08706",
            "fdbebe561ff54638a0c34ea203dcee8b",
            "f3852509ec34482aa4e8eeb54f239c57",
            "f56e57c871484d6d8256648574581a6b",
            "ee3f908c33c94336bb8deb9e20de9a2f",
            "ccf6fd4811cd4a449ab6d9db132b66f3",
            "c3c8eb766aca418a90c2e44fa65cbc24",
            "fa99b8ac5d154941a7d51dea21cdc042"
          ]
        },
        "id": "tTbUJyWwQN9j",
        "outputId": "b55dc69e-2022-4d29-f7ae-bfe0d505a089"
      },
      "source": [
        "import math\n",
        "import matplotlib.pyplot as plt\n",
        "import tensorflow as tf\n",
        "import tensordiffeq as tdq\n",
        "from tensordiffeq.boundaries import *\n",
        "from tensordiffeq.models import CollocationSolverND\n",
        "from tensorflow.math import sin\n",
        "from tensordiffeq.utils import constant\n",
        "\n",
        "from tensordiffeq.plotting import *\n",
        "\n",
        "Domain = DomainND([\"x\", \"y\"])\n",
        "\n",
        "Domain.add(\"x\", [-1.0, 1.0], 1001)\n",
        "Domain.add(\"y\", [-1.0, 1.0], 1001)\n",
        "\n",
        "N_f = 10000\n",
        "Domain.generate_collocation_points(N_f)\n",
        "\n",
        "\n",
        "def f_model(u_model, x, y):\n",
        "    u = u_model(tf.concat([x, y], 1))\n",
        "    u_x = tf.gradients(u, x)[0]\n",
        "    u_y = tf.gradients(u, y)[0]\n",
        "    u_xx = tf.gradients(u_x, x)[0]\n",
        "    u_yy = tf.gradients(u_y, y)[0]\n",
        "\n",
        "    a1 = constant(1.0)\n",
        "    a2 = constant(4.0)\n",
        "    ksq = constant(1.0)\n",
        "    pi = constant(math.pi)\n",
        "\n",
        "    # we use this specific forcing term because we have an exact analytical solution for this case\n",
        "    # to compare the results of the PINN solution\n",
        "    # note that we must use tensorflow math primitives such as sin, cos, etc!\n",
        "    forcing = - (a1 * pi) ** 2 * sin(a1 * pi * x) * sin(a2 * pi * y) - \\\n",
        "              (a2 * pi) ** 2 * sin(a1 * pi * x) * sin(a2 * pi * y) + \\\n",
        "              ksq * sin(a1 * pi * x) * sin(a2 * pi * y)\n",
        "\n",
        "    f_u = u_xx + u_yy + ksq * u - forcing  # = 0\n",
        "\n",
        "    return f_u\n",
        "\n",
        "\n",
        "upper_x = dirichletBC(Domain, val=0.0, var='x', target=\"upper\")\n",
        "lower_x = dirichletBC(Domain, val=0.0, var='x', target=\"lower\")\n",
        "upper_y = dirichletBC(Domain, val=0.0, var='y', target=\"upper\")\n",
        "lower_y = dirichletBC(Domain, val=0.0, var='y', target=\"lower\")\n",
        "\n",
        "BCs = [upper_x, lower_x, upper_y, lower_y]\n",
        "\n",
        "layer_sizes = [2, 50, 50, 50, 50, 1]\n",
        "\n",
        "model = CollocationSolverND()\n",
        "model.compile(layer_sizes, f_model, Domain, BCs)\n",
        "\n",
        "# TDQ example has 10k,10k - here 3k per adam/adam works. With SA-PINN more iterations are required.\n",
        "# More iterations here will yield more accuracy, of course.\n",
        "model.fit(tf_iter=3000, newton_iter=3000)\n",
        "\n"
      ],
      "execution_count": 2,
      "outputs": [
        {
          "output_type": "stream",
          "text": [
            "  ______                           ____  _ ______________     \n",
            " /_  __/__  ____  _________  _____/ __ \\(_) __/ __/ ____/___ _\n",
            "  / / / _ \\/ __ \\/ ___/ __ \\/ ___/ / / / / /_/ /_/ __/ / __ `/\n",
            " / / /  __/ / / (__  ) /_/ / /  / /_/ / / __/ __/ /___/ /_/ / \n",
            "/_/  \\___/_/ /_/____/\\____/_/  /_____/_/_/ /_/ /_____/\\__, /  \n",
            "                                                        /_/   \n",
            "\n",
            "Neural Network Model Summary\n",
            "\n",
            "Model: \"sequential\"\n",
            "_________________________________________________________________\n",
            "Layer (type)                 Output Shape              Param #   \n",
            "=================================================================\n",
            "dense (Dense)                (None, 50)                150       \n",
            "_________________________________________________________________\n",
            "dense_1 (Dense)              (None, 50)                2550      \n",
            "_________________________________________________________________\n",
            "dense_2 (Dense)              (None, 50)                2550      \n",
            "_________________________________________________________________\n",
            "dense_3 (Dense)              (None, 50)                2550      \n",
            "_________________________________________________________________\n",
            "dense_4 (Dense)              (None, 1)                 51        \n",
            "=================================================================\n",
            "Total params: 7,851\n",
            "Trainable params: 7,851\n",
            "Non-trainable params: 0\n",
            "_________________________________________________________________\n",
            "None\n",
            "starting Adam training\n"
          ],
          "name": "stdout"
        },
        {
          "output_type": "display_data",
          "data": {
            "application/vnd.jupyter.widget-view+json": {
              "model_id": "1dd576c6bef8408cb6fb1982ad6b491a",
              "version_minor": 0,
              "version_major": 2
            },
            "text/plain": [
              "HBox(children=(FloatProgress(value=0.0, max=3000.0), HTML(value='')))"
            ]
          },
          "metadata": {
            "tags": []
          }
        },
        {
          "output_type": "stream",
          "text": [
            "\n",
            "Starting L-BFGS training\n",
            "Executing eager-mode L-BFGS\n"
          ],
          "name": "stdout"
        },
        {
          "output_type": "display_data",
          "data": {
            "application/vnd.jupyter.widget-view+json": {
              "model_id": "b2ea81a4cc21499cadf1cd5914b08706",
              "version_minor": 0,
              "version_major": 2
            },
            "text/plain": [
              "HBox(children=(FloatProgress(value=0.0, max=3000.0), HTML(value='')))"
            ]
          },
          "metadata": {
            "tags": []
          }
        },
        {
          "output_type": "stream",
          "text": [
            "\n"
          ],
          "name": "stdout"
        }
      ]
    },
    {
      "cell_type": "markdown",
      "metadata": {
        "id": "jK359saLC1Ge"
      },
      "source": [
        "## Plotting"
      ]
    },
    {
      "cell_type": "code",
      "metadata": {
        "colab": {
          "base_uri": "https://localhost:8080/"
        },
        "id": "C0vII-Y8CDcd",
        "outputId": "84ab933f-38a1-492d-8867-2de05493cbf2"
      },
      "source": [
        "# get exact solution\n",
        "nx, ny = (1001, 1001)\n",
        "x = np.linspace(-1, 1, nx)\n",
        "y = np.linspace(-1, 1, ny)\n",
        "\n",
        "xv, yv = np.meshgrid(x, y)\n",
        "\n",
        "x = np.reshape(x, (-1, 1))\n",
        "y = np.reshape(y, (-1, 1))\n",
        "\n",
        "# Exact analytical soln is available:\n",
        "Exact_u = np.sin(math.pi * xv) * np.sin(4 * math.pi * yv)\n",
        "\n",
        "# Flatten for use\n",
        "u_star = Exact_u.flatten()[:, None]\n",
        "\n",
        "# Plotting\n",
        "x = Domain.domaindict[0]['xlinspace']\n",
        "y = Domain.domaindict[1][\"ylinspace\"]\n",
        "\n",
        "X, Y = np.meshgrid(x, y)\n",
        "\n",
        "# print(np.shape((X,Y))) # 2, 256, 256\n",
        "X_star = np.hstack((X.flatten()[:, None], Y.flatten()[:, None]))\n",
        "\n",
        "lb = np.array([-1.0, -1.0])\n",
        "ub = np.array([1.0, 1])\n",
        "\n",
        "u_pred, f_u_pred = model.predict(X_star)\n",
        "\n",
        "error_u = tdq.helpers.find_L2_error(u_pred, u_star)\n",
        "print('Error u: %e' % (error_u))\n"
      ],
      "execution_count": 3,
      "outputs": [
        {
          "output_type": "stream",
          "text": [
            "Error u: 2.101772e-02\n"
          ],
          "name": "stdout"
        }
      ]
    },
    {
      "cell_type": "markdown",
      "metadata": {
        "id": "QnaqNr9YFt6y"
      },
      "source": [
        "The above error is the L2 error across the entire domain for all 1m points in the domain. So the actual error per timestep is relatively small. There are 1000 timesteps, so we can appriximate an error of the above number % 1000 for the avg residual at each timestep. "
      ]
    },
    {
      "cell_type": "markdown",
      "metadata": {
        "id": "7_eTtVF-EnGX"
      },
      "source": [
        "Manual plotting for a bug where the transpose of the solution is displayed. Will be repaired in a later release. "
      ]
    },
    {
      "cell_type": "code",
      "metadata": {
        "colab": {
          "base_uri": "https://localhost:8080/",
          "height": 374
        },
        "id": "onV6ycBVDdoN",
        "outputId": "c38dd3cb-713c-49e6-890b-cf6a31e20c4d"
      },
      "source": [
        "U_pred = tdq.plotting.get_griddata(X_star, u_pred.T.flatten(), (X, Y))\n",
        "FU_pred = tdq.plotting.get_griddata(X_star, f_u_pred.T.flatten(), (X, Y))\n",
        "\n",
        "fig, ax = newfig(1.3, 1.0)\n",
        "ax.axis('off')\n",
        "\n",
        "####### Row 0: h(t,x) ##################\n",
        "gs0 = gridspec.GridSpec(1, 2)\n",
        "gs0.update(top=1-0.06, bottom=1-1/3, left=0.15, right=0.85, wspace=0)\n",
        "ax = plt.subplot(gs0[:, :])\n",
        "\n",
        "h = ax.imshow(U_pred, interpolation='nearest', cmap='YlGnBu',\n",
        "              extent=[lb[1], ub[1], lb[0], ub[0]],\n",
        "              origin='lower', aspect='auto')\n",
        "divider = make_axes_locatable(ax)\n",
        "cax = divider.append_axes(\"right\", size=\"5%\", pad=0.05)\n",
        "fig.colorbar(h, cax=cax)\n",
        "\n",
        "\n",
        "line = np.linspace(x.min(), x.max(), 2)[:,None]\n",
        "ax.plot(y[250]*np.ones((2,1)), line, 'k--', linewidth = 1)\n",
        "ax.plot(y[500]*np.ones((2,1)), line, 'k--', linewidth = 1)\n",
        "ax.plot(y[750]*np.ones((2,1)), line, 'k--', linewidth = 1)\n",
        "\n",
        "ax.set_xlabel('$x$')\n",
        "ax.set_ylabel('$y$')\n",
        "leg = ax.legend(frameon=False, loc = 'best')\n",
        "\n",
        "ax.set_title('$u(x,y)$', fontsize = 10)\n",
        "\n",
        "####### Row 1: h(t,x) slices ##################\n",
        "gs1 = gridspec.GridSpec(1, 3)\n",
        "gs1.update(top=1-1/3, bottom=0, left=0.1, right=0.9, wspace=0.5)\n",
        "\n",
        "ax = plt.subplot(gs1[0, 0])\n",
        "ax.plot(x,Exact_u[:,250], 'b-', linewidth = 2, label = 'Exact')\n",
        "ax.plot(x,U_pred[:,250], 'r--', linewidth = 2, label = 'Prediction')\n",
        "ax.set_xlabel('$y$')\n",
        "ax.set_ylabel('$u(x,y)$')\n",
        "ax.set_title('$y = %.2f$' % (y[250]), fontsize = 10)\n",
        "ax.axis('square')\n",
        "ax.set_xlim([-1.1,1.1])\n",
        "ax.set_ylim([-1.1,1.1])\n",
        "\n",
        "ax = plt.subplot(gs1[0, 1])\n",
        "ax.plot(x,Exact_u[:,500], 'b-', linewidth = 2, label = 'Exact')\n",
        "ax.plot(x,U_pred[:,500], 'r--', linewidth = 2, label = 'Prediction')\n",
        "ax.set_xlabel('$y$')\n",
        "ax.set_ylabel('$u(x,y)$')\n",
        "ax.axis('square')\n",
        "ax.set_xlim([-1.1,1.1])\n",
        "ax.set_ylim([-1.1,1.1])\n",
        "ax.set_title('$x = %.2f$' % (y[500]), fontsize = 10)\n",
        "ax.legend(loc='upper center', bbox_to_anchor=(0.5, -0.3), ncol=5, frameon=False)\n",
        "\n",
        "ax = plt.subplot(gs1[0, 2])\n",
        "ax.plot(x,Exact_u[:,750], 'b-', linewidth = 2, label = 'Exact')\n",
        "ax.plot(x,U_pred[:,750], 'r--', linewidth = 2, label = 'Prediction')\n",
        "ax.set_xlabel('$y$')\n",
        "ax.set_ylabel('$u(x,y)$')\n",
        "ax.axis('square')\n",
        "ax.set_xlim([-1.1,1.1])\n",
        "ax.set_ylim([-1.1,1.1])\n",
        "ax.set_title('$x = %.2f$' % (y[750]), fontsize = 10)"
      ],
      "execution_count": 4,
      "outputs": [
        {
          "output_type": "stream",
          "text": [
            "No handles with labels found to put in legend.\n"
          ],
          "name": "stderr"
        },
        {
          "output_type": "execute_result",
          "data": {
            "text/plain": [
              "Text(0.5, 1.0, '$x = 0.50$')"
            ]
          },
          "metadata": {
            "tags": []
          },
          "execution_count": 4
        },
        {
          "output_type": "display_data",
          "data": {
            "image/png": "[encoded data removed]",
            "text/plain": [
              "<Figure size 505.106x312.173 with 5 Axes>"
            ]
          },
          "metadata": {
            "tags": [],
            "needs_background": "light"
          }
        }
      ]
    },
    {
      "cell_type": "code",
      "metadata": {
        "id": "-laQ9qCP6KWI"
      },
      "source": [
        ""
      ],
      "execution_count": null,
      "outputs": []
    }
  ]
}